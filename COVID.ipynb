{
 "cells": [
  {
   "cell_type": "code",
   "execution_count": 1,
   "metadata": {},
   "outputs": [],
   "source": [
    "import pandas as pd\n",
    "import matplotlib.pyplot as plt\n",
    "import seaborn as sns"
   ]
  },
  {
   "cell_type": "code",
   "execution_count": 2,
   "metadata": {},
   "outputs": [],
   "source": [
    "path = 'https://raw.githubusercontent.com/CSSEGISandData/COVID-19/master/csse_covid_19_data/csse_covid_19_time_series/time_series_covid19_confirmed_global.csv'"
   ]
  },
  {
   "cell_type": "code",
   "execution_count": 3,
   "metadata": {},
   "outputs": [],
   "source": [
    "covid_confirmed = pd.read_csv(path)"
   ]
  },
  {
   "cell_type": "code",
   "execution_count": 4,
   "metadata": {},
   "outputs": [
    {
     "name": "stdout",
     "output_type": "stream",
     "text": [
      "<class 'pandas.core.frame.DataFrame'>\n",
      "RangeIndex: 284 entries, 0 to 283\n",
      "Columns: 770 entries, Province/State to 2/25/22\n",
      "dtypes: float64(2), int64(766), object(2)\n",
      "memory usage: 1.7+ MB\n"
     ]
    }
   ],
   "source": [
    "covid_confirmed.info()"
   ]
  },
  {
   "cell_type": "code",
   "execution_count": 5,
   "metadata": {},
   "outputs": [
    {
     "data": {
      "text/plain": [
       "Province/State     object\n",
       "Country/Region     object\n",
       "Lat               float64\n",
       "Long              float64\n",
       "1/22/20             int64\n",
       "                   ...   \n",
       "2/21/22             int64\n",
       "2/22/22             int64\n",
       "2/23/22             int64\n",
       "2/24/22             int64\n",
       "2/25/22             int64\n",
       "Length: 770, dtype: object"
      ]
     },
     "execution_count": 5,
     "metadata": {},
     "output_type": "execute_result"
    }
   ],
   "source": [
    "covid_confirmed.dtypes"
   ]
  },
  {
   "cell_type": "code",
   "execution_count": 6,
   "metadata": {},
   "outputs": [
    {
     "data": {
      "text/html": [
       "<div>\n",
       "<style scoped>\n",
       "    .dataframe tbody tr th:only-of-type {\n",
       "        vertical-align: middle;\n",
       "    }\n",
       "\n",
       "    .dataframe tbody tr th {\n",
       "        vertical-align: top;\n",
       "    }\n",
       "\n",
       "    .dataframe thead th {\n",
       "        text-align: right;\n",
       "    }\n",
       "</style>\n",
       "<table border=\"1\" class=\"dataframe\">\n",
       "  <thead>\n",
       "    <tr style=\"text-align: right;\">\n",
       "      <th></th>\n",
       "      <th>Province/State</th>\n",
       "      <th>Country/Region</th>\n",
       "      <th>Lat</th>\n",
       "      <th>Long</th>\n",
       "      <th>1/22/20</th>\n",
       "      <th>1/23/20</th>\n",
       "      <th>1/24/20</th>\n",
       "      <th>1/25/20</th>\n",
       "      <th>1/26/20</th>\n",
       "      <th>1/27/20</th>\n",
       "      <th>...</th>\n",
       "      <th>2/16/22</th>\n",
       "      <th>2/17/22</th>\n",
       "      <th>2/18/22</th>\n",
       "      <th>2/19/22</th>\n",
       "      <th>2/20/22</th>\n",
       "      <th>2/21/22</th>\n",
       "      <th>2/22/22</th>\n",
       "      <th>2/23/22</th>\n",
       "      <th>2/24/22</th>\n",
       "      <th>2/25/22</th>\n",
       "    </tr>\n",
       "  </thead>\n",
       "  <tbody>\n",
       "    <tr>\n",
       "      <th>0</th>\n",
       "      <td>NaN</td>\n",
       "      <td>Afghanistan</td>\n",
       "      <td>33.93911</td>\n",
       "      <td>67.709953</td>\n",
       "      <td>0</td>\n",
       "      <td>0</td>\n",
       "      <td>0</td>\n",
       "      <td>0</td>\n",
       "      <td>0</td>\n",
       "      <td>0</td>\n",
       "      <td>...</td>\n",
       "      <td>171519</td>\n",
       "      <td>171673</td>\n",
       "      <td>171857</td>\n",
       "      <td>171931</td>\n",
       "      <td>172205</td>\n",
       "      <td>172441</td>\n",
       "      <td>172716</td>\n",
       "      <td>172901</td>\n",
       "      <td>173047</td>\n",
       "      <td>173084</td>\n",
       "    </tr>\n",
       "    <tr>\n",
       "      <th>1</th>\n",
       "      <td>NaN</td>\n",
       "      <td>Albania</td>\n",
       "      <td>41.15330</td>\n",
       "      <td>20.168300</td>\n",
       "      <td>0</td>\n",
       "      <td>0</td>\n",
       "      <td>0</td>\n",
       "      <td>0</td>\n",
       "      <td>0</td>\n",
       "      <td>0</td>\n",
       "      <td>...</td>\n",
       "      <td>268940</td>\n",
       "      <td>269301</td>\n",
       "      <td>269601</td>\n",
       "      <td>269904</td>\n",
       "      <td>270164</td>\n",
       "      <td>270370</td>\n",
       "      <td>270455</td>\n",
       "      <td>270734</td>\n",
       "      <td>270947</td>\n",
       "      <td>271141</td>\n",
       "    </tr>\n",
       "    <tr>\n",
       "      <th>2</th>\n",
       "      <td>NaN</td>\n",
       "      <td>Algeria</td>\n",
       "      <td>28.03390</td>\n",
       "      <td>1.659600</td>\n",
       "      <td>0</td>\n",
       "      <td>0</td>\n",
       "      <td>0</td>\n",
       "      <td>0</td>\n",
       "      <td>0</td>\n",
       "      <td>0</td>\n",
       "      <td>...</td>\n",
       "      <td>262994</td>\n",
       "      <td>263369</td>\n",
       "      <td>263685</td>\n",
       "      <td>263936</td>\n",
       "      <td>264054</td>\n",
       "      <td>264201</td>\n",
       "      <td>264365</td>\n",
       "      <td>264488</td>\n",
       "      <td>264603</td>\n",
       "      <td>264706</td>\n",
       "    </tr>\n",
       "    <tr>\n",
       "      <th>3</th>\n",
       "      <td>NaN</td>\n",
       "      <td>Andorra</td>\n",
       "      <td>42.50630</td>\n",
       "      <td>1.521800</td>\n",
       "      <td>0</td>\n",
       "      <td>0</td>\n",
       "      <td>0</td>\n",
       "      <td>0</td>\n",
       "      <td>0</td>\n",
       "      <td>0</td>\n",
       "      <td>...</td>\n",
       "      <td>37452</td>\n",
       "      <td>37522</td>\n",
       "      <td>37589</td>\n",
       "      <td>37589</td>\n",
       "      <td>37589</td>\n",
       "      <td>37589</td>\n",
       "      <td>37820</td>\n",
       "      <td>37901</td>\n",
       "      <td>37958</td>\n",
       "      <td>37999</td>\n",
       "    </tr>\n",
       "    <tr>\n",
       "      <th>4</th>\n",
       "      <td>NaN</td>\n",
       "      <td>Angola</td>\n",
       "      <td>-11.20270</td>\n",
       "      <td>17.873900</td>\n",
       "      <td>0</td>\n",
       "      <td>0</td>\n",
       "      <td>0</td>\n",
       "      <td>0</td>\n",
       "      <td>0</td>\n",
       "      <td>0</td>\n",
       "      <td>...</td>\n",
       "      <td>98568</td>\n",
       "      <td>98585</td>\n",
       "      <td>98605</td>\n",
       "      <td>98617</td>\n",
       "      <td>98638</td>\n",
       "      <td>98658</td>\n",
       "      <td>98671</td>\n",
       "      <td>98698</td>\n",
       "      <td>98701</td>\n",
       "      <td>98701</td>\n",
       "    </tr>\n",
       "  </tbody>\n",
       "</table>\n",
       "<p>5 rows × 770 columns</p>\n",
       "</div>"
      ],
      "text/plain": [
       "  Province/State Country/Region       Lat       Long  1/22/20  1/23/20  \\\n",
       "0            NaN    Afghanistan  33.93911  67.709953        0        0   \n",
       "1            NaN        Albania  41.15330  20.168300        0        0   \n",
       "2            NaN        Algeria  28.03390   1.659600        0        0   \n",
       "3            NaN        Andorra  42.50630   1.521800        0        0   \n",
       "4            NaN         Angola -11.20270  17.873900        0        0   \n",
       "\n",
       "   1/24/20  1/25/20  1/26/20  1/27/20  ...  2/16/22  2/17/22  2/18/22  \\\n",
       "0        0        0        0        0  ...   171519   171673   171857   \n",
       "1        0        0        0        0  ...   268940   269301   269601   \n",
       "2        0        0        0        0  ...   262994   263369   263685   \n",
       "3        0        0        0        0  ...    37452    37522    37589   \n",
       "4        0        0        0        0  ...    98568    98585    98605   \n",
       "\n",
       "   2/19/22  2/20/22  2/21/22  2/22/22  2/23/22  2/24/22  2/25/22  \n",
       "0   171931   172205   172441   172716   172901   173047   173084  \n",
       "1   269904   270164   270370   270455   270734   270947   271141  \n",
       "2   263936   264054   264201   264365   264488   264603   264706  \n",
       "3    37589    37589    37589    37820    37901    37958    37999  \n",
       "4    98617    98638    98658    98671    98698    98701    98701  \n",
       "\n",
       "[5 rows x 770 columns]"
      ]
     },
     "execution_count": 6,
     "metadata": {},
     "output_type": "execute_result"
    }
   ],
   "source": [
    "covid_confirmed.head()"
   ]
  },
  {
   "cell_type": "code",
   "execution_count": 7,
   "metadata": {},
   "outputs": [
    {
     "data": {
      "text/html": [
       "<div>\n",
       "<style scoped>\n",
       "    .dataframe tbody tr th:only-of-type {\n",
       "        vertical-align: middle;\n",
       "    }\n",
       "\n",
       "    .dataframe tbody tr th {\n",
       "        vertical-align: top;\n",
       "    }\n",
       "\n",
       "    .dataframe thead th {\n",
       "        text-align: right;\n",
       "    }\n",
       "</style>\n",
       "<table border=\"1\" class=\"dataframe\">\n",
       "  <thead>\n",
       "    <tr style=\"text-align: right;\">\n",
       "      <th></th>\n",
       "      <th>1/22/20</th>\n",
       "      <th>1/23/20</th>\n",
       "      <th>1/24/20</th>\n",
       "      <th>1/25/20</th>\n",
       "      <th>1/26/20</th>\n",
       "      <th>1/27/20</th>\n",
       "      <th>1/28/20</th>\n",
       "      <th>1/29/20</th>\n",
       "      <th>1/30/20</th>\n",
       "      <th>1/31/20</th>\n",
       "      <th>...</th>\n",
       "      <th>2/16/22</th>\n",
       "      <th>2/17/22</th>\n",
       "      <th>2/18/22</th>\n",
       "      <th>2/19/22</th>\n",
       "      <th>2/20/22</th>\n",
       "      <th>2/21/22</th>\n",
       "      <th>2/22/22</th>\n",
       "      <th>2/23/22</th>\n",
       "      <th>2/24/22</th>\n",
       "      <th>2/25/22</th>\n",
       "    </tr>\n",
       "  </thead>\n",
       "  <tbody>\n",
       "    <tr>\n",
       "      <th>count</th>\n",
       "      <td>284.000000</td>\n",
       "      <td>284.000000</td>\n",
       "      <td>284.000000</td>\n",
       "      <td>284.000000</td>\n",
       "      <td>284.000000</td>\n",
       "      <td>284.000000</td>\n",
       "      <td>284.000000</td>\n",
       "      <td>284.000000</td>\n",
       "      <td>284.000000</td>\n",
       "      <td>284.000000</td>\n",
       "      <td>...</td>\n",
       "      <td>2.840000e+02</td>\n",
       "      <td>2.840000e+02</td>\n",
       "      <td>2.840000e+02</td>\n",
       "      <td>2.840000e+02</td>\n",
       "      <td>2.840000e+02</td>\n",
       "      <td>2.840000e+02</td>\n",
       "      <td>2.840000e+02</td>\n",
       "      <td>2.840000e+02</td>\n",
       "      <td>2.840000e+02</td>\n",
       "      <td>2.840000e+02</td>\n",
       "    </tr>\n",
       "    <tr>\n",
       "      <th>mean</th>\n",
       "      <td>1.961268</td>\n",
       "      <td>2.306338</td>\n",
       "      <td>3.313380</td>\n",
       "      <td>5.049296</td>\n",
       "      <td>7.457746</td>\n",
       "      <td>10.306338</td>\n",
       "      <td>19.640845</td>\n",
       "      <td>21.714789</td>\n",
       "      <td>28.996479</td>\n",
       "      <td>34.954225</td>\n",
       "      <td>...</td>\n",
       "      <td>1.471013e+06</td>\n",
       "      <td>1.478178e+06</td>\n",
       "      <td>1.485057e+06</td>\n",
       "      <td>1.490494e+06</td>\n",
       "      <td>1.494937e+06</td>\n",
       "      <td>1.500054e+06</td>\n",
       "      <td>1.506408e+06</td>\n",
       "      <td>1.513062e+06</td>\n",
       "      <td>1.519097e+06</td>\n",
       "      <td>1.524599e+06</td>\n",
       "    </tr>\n",
       "    <tr>\n",
       "      <th>std</th>\n",
       "      <td>26.402603</td>\n",
       "      <td>26.499840</td>\n",
       "      <td>32.992617</td>\n",
       "      <td>45.920245</td>\n",
       "      <td>64.175843</td>\n",
       "      <td>86.468449</td>\n",
       "      <td>212.164342</td>\n",
       "      <td>213.471325</td>\n",
       "      <td>294.171286</td>\n",
       "      <td>348.769875</td>\n",
       "      <td>...</td>\n",
       "      <td>6.017818e+06</td>\n",
       "      <td>6.031438e+06</td>\n",
       "      <td>6.046653e+06</td>\n",
       "      <td>6.055452e+06</td>\n",
       "      <td>6.061672e+06</td>\n",
       "      <td>6.070552e+06</td>\n",
       "      <td>6.082560e+06</td>\n",
       "      <td>6.094635e+06</td>\n",
       "      <td>6.104979e+06</td>\n",
       "      <td>6.115326e+06</td>\n",
       "    </tr>\n",
       "    <tr>\n",
       "      <th>min</th>\n",
       "      <td>0.000000</td>\n",
       "      <td>0.000000</td>\n",
       "      <td>0.000000</td>\n",
       "      <td>0.000000</td>\n",
       "      <td>0.000000</td>\n",
       "      <td>0.000000</td>\n",
       "      <td>0.000000</td>\n",
       "      <td>0.000000</td>\n",
       "      <td>0.000000</td>\n",
       "      <td>0.000000</td>\n",
       "      <td>...</td>\n",
       "      <td>0.000000e+00</td>\n",
       "      <td>0.000000e+00</td>\n",
       "      <td>0.000000e+00</td>\n",
       "      <td>0.000000e+00</td>\n",
       "      <td>0.000000e+00</td>\n",
       "      <td>0.000000e+00</td>\n",
       "      <td>0.000000e+00</td>\n",
       "      <td>0.000000e+00</td>\n",
       "      <td>0.000000e+00</td>\n",
       "      <td>0.000000e+00</td>\n",
       "    </tr>\n",
       "    <tr>\n",
       "      <th>25%</th>\n",
       "      <td>0.000000</td>\n",
       "      <td>0.000000</td>\n",
       "      <td>0.000000</td>\n",
       "      <td>0.000000</td>\n",
       "      <td>0.000000</td>\n",
       "      <td>0.000000</td>\n",
       "      <td>0.000000</td>\n",
       "      <td>0.000000</td>\n",
       "      <td>0.000000</td>\n",
       "      <td>0.000000</td>\n",
       "      <td>...</td>\n",
       "      <td>7.902500e+03</td>\n",
       "      <td>7.963000e+03</td>\n",
       "      <td>7.986750e+03</td>\n",
       "      <td>7.988750e+03</td>\n",
       "      <td>7.991750e+03</td>\n",
       "      <td>7.992500e+03</td>\n",
       "      <td>8.006250e+03</td>\n",
       "      <td>8.011000e+03</td>\n",
       "      <td>8.012500e+03</td>\n",
       "      <td>8.015750e+03</td>\n",
       "    </tr>\n",
       "    <tr>\n",
       "      <th>50%</th>\n",
       "      <td>0.000000</td>\n",
       "      <td>0.000000</td>\n",
       "      <td>0.000000</td>\n",
       "      <td>0.000000</td>\n",
       "      <td>0.000000</td>\n",
       "      <td>0.000000</td>\n",
       "      <td>0.000000</td>\n",
       "      <td>0.000000</td>\n",
       "      <td>0.000000</td>\n",
       "      <td>0.000000</td>\n",
       "      <td>...</td>\n",
       "      <td>6.319350e+04</td>\n",
       "      <td>6.319350e+04</td>\n",
       "      <td>6.323400e+04</td>\n",
       "      <td>6.352850e+04</td>\n",
       "      <td>6.352850e+04</td>\n",
       "      <td>6.354150e+04</td>\n",
       "      <td>6.354150e+04</td>\n",
       "      <td>6.401800e+04</td>\n",
       "      <td>6.463500e+04</td>\n",
       "      <td>6.696500e+04</td>\n",
       "    </tr>\n",
       "    <tr>\n",
       "      <th>75%</th>\n",
       "      <td>0.000000</td>\n",
       "      <td>0.000000</td>\n",
       "      <td>0.000000</td>\n",
       "      <td>0.000000</td>\n",
       "      <td>0.000000</td>\n",
       "      <td>0.000000</td>\n",
       "      <td>0.000000</td>\n",
       "      <td>0.000000</td>\n",
       "      <td>0.000000</td>\n",
       "      <td>0.000000</td>\n",
       "      <td>...</td>\n",
       "      <td>7.369802e+05</td>\n",
       "      <td>7.389475e+05</td>\n",
       "      <td>7.402842e+05</td>\n",
       "      <td>7.410320e+05</td>\n",
       "      <td>7.421980e+05</td>\n",
       "      <td>7.429870e+05</td>\n",
       "      <td>7.439710e+05</td>\n",
       "      <td>7.446248e+05</td>\n",
       "      <td>7.453292e+05</td>\n",
       "      <td>7.459942e+05</td>\n",
       "    </tr>\n",
       "    <tr>\n",
       "      <th>max</th>\n",
       "      <td>444.000000</td>\n",
       "      <td>444.000000</td>\n",
       "      <td>549.000000</td>\n",
       "      <td>761.000000</td>\n",
       "      <td>1058.000000</td>\n",
       "      <td>1423.000000</td>\n",
       "      <td>3554.000000</td>\n",
       "      <td>3554.000000</td>\n",
       "      <td>4903.000000</td>\n",
       "      <td>5806.000000</td>\n",
       "      <td>...</td>\n",
       "      <td>7.817440e+07</td>\n",
       "      <td>7.827574e+07</td>\n",
       "      <td>7.842161e+07</td>\n",
       "      <td>7.845516e+07</td>\n",
       "      <td>7.847722e+07</td>\n",
       "      <td>7.855820e+07</td>\n",
       "      <td>7.864869e+07</td>\n",
       "      <td>7.873350e+07</td>\n",
       "      <td>7.879899e+07</td>\n",
       "      <td>7.888310e+07</td>\n",
       "    </tr>\n",
       "  </tbody>\n",
       "</table>\n",
       "<p>8 rows × 766 columns</p>\n",
       "</div>"
      ],
      "text/plain": [
       "          1/22/20     1/23/20     1/24/20     1/25/20      1/26/20  \\\n",
       "count  284.000000  284.000000  284.000000  284.000000   284.000000   \n",
       "mean     1.961268    2.306338    3.313380    5.049296     7.457746   \n",
       "std     26.402603   26.499840   32.992617   45.920245    64.175843   \n",
       "min      0.000000    0.000000    0.000000    0.000000     0.000000   \n",
       "25%      0.000000    0.000000    0.000000    0.000000     0.000000   \n",
       "50%      0.000000    0.000000    0.000000    0.000000     0.000000   \n",
       "75%      0.000000    0.000000    0.000000    0.000000     0.000000   \n",
       "max    444.000000  444.000000  549.000000  761.000000  1058.000000   \n",
       "\n",
       "           1/27/20      1/28/20      1/29/20      1/30/20      1/31/20  ...  \\\n",
       "count   284.000000   284.000000   284.000000   284.000000   284.000000  ...   \n",
       "mean     10.306338    19.640845    21.714789    28.996479    34.954225  ...   \n",
       "std      86.468449   212.164342   213.471325   294.171286   348.769875  ...   \n",
       "min       0.000000     0.000000     0.000000     0.000000     0.000000  ...   \n",
       "25%       0.000000     0.000000     0.000000     0.000000     0.000000  ...   \n",
       "50%       0.000000     0.000000     0.000000     0.000000     0.000000  ...   \n",
       "75%       0.000000     0.000000     0.000000     0.000000     0.000000  ...   \n",
       "max    1423.000000  3554.000000  3554.000000  4903.000000  5806.000000  ...   \n",
       "\n",
       "            2/16/22       2/17/22       2/18/22       2/19/22       2/20/22  \\\n",
       "count  2.840000e+02  2.840000e+02  2.840000e+02  2.840000e+02  2.840000e+02   \n",
       "mean   1.471013e+06  1.478178e+06  1.485057e+06  1.490494e+06  1.494937e+06   \n",
       "std    6.017818e+06  6.031438e+06  6.046653e+06  6.055452e+06  6.061672e+06   \n",
       "min    0.000000e+00  0.000000e+00  0.000000e+00  0.000000e+00  0.000000e+00   \n",
       "25%    7.902500e+03  7.963000e+03  7.986750e+03  7.988750e+03  7.991750e+03   \n",
       "50%    6.319350e+04  6.319350e+04  6.323400e+04  6.352850e+04  6.352850e+04   \n",
       "75%    7.369802e+05  7.389475e+05  7.402842e+05  7.410320e+05  7.421980e+05   \n",
       "max    7.817440e+07  7.827574e+07  7.842161e+07  7.845516e+07  7.847722e+07   \n",
       "\n",
       "            2/21/22       2/22/22       2/23/22       2/24/22       2/25/22  \n",
       "count  2.840000e+02  2.840000e+02  2.840000e+02  2.840000e+02  2.840000e+02  \n",
       "mean   1.500054e+06  1.506408e+06  1.513062e+06  1.519097e+06  1.524599e+06  \n",
       "std    6.070552e+06  6.082560e+06  6.094635e+06  6.104979e+06  6.115326e+06  \n",
       "min    0.000000e+00  0.000000e+00  0.000000e+00  0.000000e+00  0.000000e+00  \n",
       "25%    7.992500e+03  8.006250e+03  8.011000e+03  8.012500e+03  8.015750e+03  \n",
       "50%    6.354150e+04  6.354150e+04  6.401800e+04  6.463500e+04  6.696500e+04  \n",
       "75%    7.429870e+05  7.439710e+05  7.446248e+05  7.453292e+05  7.459942e+05  \n",
       "max    7.855820e+07  7.864869e+07  7.873350e+07  7.879899e+07  7.888310e+07  \n",
       "\n",
       "[8 rows x 766 columns]"
      ]
     },
     "execution_count": 7,
     "metadata": {},
     "output_type": "execute_result"
    }
   ],
   "source": [
    "covid_confirmed.iloc[:, 4:].describe()"
   ]
  },
  {
   "cell_type": "code",
   "execution_count": 20,
   "metadata": {},
   "outputs": [],
   "source": [
    "df = pd.melt(covid_confirmed, \n",
    "        id_vars = covid_confirmed.columns[:4], \n",
    "        value_vars = covid_confirmed.columns[4:],\n",
    "        var_name = \"data\", value_name = \"casos_confirmados\")"
   ]
  },
  {
   "cell_type": "code",
   "execution_count": 21,
   "metadata": {},
   "outputs": [
    {
     "data": {
      "text/plain": [
       "Province/State        object\n",
       "Country/Region        object\n",
       "Lat                  float64\n",
       "Long                 float64\n",
       "data                  object\n",
       "casos_confirmados      int64\n",
       "dtype: object"
      ]
     },
     "execution_count": 21,
     "metadata": {},
     "output_type": "execute_result"
    }
   ],
   "source": [
    "df.dtypes"
   ]
  },
  {
   "cell_type": "code",
   "execution_count": 22,
   "metadata": {},
   "outputs": [
    {
     "data": {
      "text/plain": [
       "Index(['Province/State', 'Country/Region', 'Lat', 'Long', 'data',\n",
       "       'casos_confirmados'],\n",
       "      dtype='object')"
      ]
     },
     "execution_count": 22,
     "metadata": {},
     "output_type": "execute_result"
    }
   ],
   "source": [
    "df.columns"
   ]
  },
  {
   "cell_type": "code",
   "execution_count": 23,
   "metadata": {},
   "outputs": [],
   "source": [
    "nome_colunas = ['provincia_estado', 'pais_regiao', 'latitude', 'longitude', 'data', 'casos_confirmados']\n",
    "df.columns = nome_colunas"
   ]
  },
  {
   "cell_type": "code",
   "execution_count": 24,
   "metadata": {},
   "outputs": [
    {
     "name": "stdout",
     "output_type": "stream",
     "text": [
      "<class 'pandas.core.frame.DataFrame'>\n",
      "RangeIndex: 217544 entries, 0 to 217543\n",
      "Data columns (total 6 columns):\n",
      " #   Column             Non-Null Count   Dtype  \n",
      "---  ------             --------------   -----  \n",
      " 0   provincia_estado   68174 non-null   object \n",
      " 1   pais_regiao        217544 non-null  object \n",
      " 2   latitude           216012 non-null  float64\n",
      " 3   longitude          216012 non-null  float64\n",
      " 4   data               217544 non-null  object \n",
      " 5   casos_confirmados  217544 non-null  int64  \n",
      "dtypes: float64(2), int64(1), object(3)\n",
      "memory usage: 10.0+ MB\n"
     ]
    }
   ],
   "source": [
    "df.info()"
   ]
  },
  {
   "cell_type": "code",
   "execution_count": 25,
   "metadata": {},
   "outputs": [],
   "source": [
    "df.iloc[:, -2] = pd.to_datetime(df.data, errors = 'coerce')"
   ]
  },
  {
   "cell_type": "code",
   "execution_count": 26,
   "metadata": {},
   "outputs": [
    {
     "data": {
      "text/plain": [
       "provincia_estado             object\n",
       "pais_regiao                  object\n",
       "latitude                    float64\n",
       "longitude                   float64\n",
       "data                 datetime64[ns]\n",
       "casos_confirmados             int64\n",
       "dtype: object"
      ]
     },
     "execution_count": 26,
     "metadata": {},
     "output_type": "execute_result"
    }
   ],
   "source": [
    "df.dtypes"
   ]
  },
  {
   "cell_type": "code",
   "execution_count": 27,
   "metadata": {},
   "outputs": [
    {
     "data": {
      "text/plain": [
       "provincia_estado     149370\n",
       "pais_regiao               0\n",
       "latitude               1532\n",
       "longitude              1532\n",
       "data                      0\n",
       "casos_confirmados         0\n",
       "dtype: int64"
      ]
     },
     "execution_count": 27,
     "metadata": {},
     "output_type": "execute_result"
    }
   ],
   "source": [
    "df.isna().sum()"
   ]
  },
  {
   "cell_type": "code",
   "execution_count": 28,
   "metadata": {},
   "outputs": [
    {
     "data": {
      "text/html": [
       "<div>\n",
       "<style scoped>\n",
       "    .dataframe tbody tr th:only-of-type {\n",
       "        vertical-align: middle;\n",
       "    }\n",
       "\n",
       "    .dataframe tbody tr th {\n",
       "        vertical-align: top;\n",
       "    }\n",
       "\n",
       "    .dataframe thead th {\n",
       "        text-align: right;\n",
       "    }\n",
       "</style>\n",
       "<table border=\"1\" class=\"dataframe\">\n",
       "  <thead>\n",
       "    <tr style=\"text-align: right;\">\n",
       "      <th></th>\n",
       "      <th>provincia_estado</th>\n",
       "      <th>pais_regiao</th>\n",
       "      <th>latitude</th>\n",
       "      <th>longitude</th>\n",
       "      <th>data</th>\n",
       "      <th>casos_confirmados</th>\n",
       "    </tr>\n",
       "  </thead>\n",
       "  <tbody>\n",
       "    <tr>\n",
       "      <th>0</th>\n",
       "      <td>NaN</td>\n",
       "      <td>Afghanistan</td>\n",
       "      <td>33.93911</td>\n",
       "      <td>67.709953</td>\n",
       "      <td>2020-01-22</td>\n",
       "      <td>0</td>\n",
       "    </tr>\n",
       "    <tr>\n",
       "      <th>1</th>\n",
       "      <td>NaN</td>\n",
       "      <td>Albania</td>\n",
       "      <td>41.15330</td>\n",
       "      <td>20.168300</td>\n",
       "      <td>2020-01-22</td>\n",
       "      <td>0</td>\n",
       "    </tr>\n",
       "    <tr>\n",
       "      <th>2</th>\n",
       "      <td>NaN</td>\n",
       "      <td>Algeria</td>\n",
       "      <td>28.03390</td>\n",
       "      <td>1.659600</td>\n",
       "      <td>2020-01-22</td>\n",
       "      <td>0</td>\n",
       "    </tr>\n",
       "    <tr>\n",
       "      <th>3</th>\n",
       "      <td>NaN</td>\n",
       "      <td>Andorra</td>\n",
       "      <td>42.50630</td>\n",
       "      <td>1.521800</td>\n",
       "      <td>2020-01-22</td>\n",
       "      <td>0</td>\n",
       "    </tr>\n",
       "    <tr>\n",
       "      <th>4</th>\n",
       "      <td>NaN</td>\n",
       "      <td>Angola</td>\n",
       "      <td>-11.20270</td>\n",
       "      <td>17.873900</td>\n",
       "      <td>2020-01-22</td>\n",
       "      <td>0</td>\n",
       "    </tr>\n",
       "    <tr>\n",
       "      <th>5</th>\n",
       "      <td>NaN</td>\n",
       "      <td>Antarctica</td>\n",
       "      <td>-71.94990</td>\n",
       "      <td>23.347000</td>\n",
       "      <td>2020-01-22</td>\n",
       "      <td>0</td>\n",
       "    </tr>\n",
       "    <tr>\n",
       "      <th>6</th>\n",
       "      <td>NaN</td>\n",
       "      <td>Antigua and Barbuda</td>\n",
       "      <td>17.06080</td>\n",
       "      <td>-61.796400</td>\n",
       "      <td>2020-01-22</td>\n",
       "      <td>0</td>\n",
       "    </tr>\n",
       "    <tr>\n",
       "      <th>7</th>\n",
       "      <td>NaN</td>\n",
       "      <td>Argentina</td>\n",
       "      <td>-38.41610</td>\n",
       "      <td>-63.616700</td>\n",
       "      <td>2020-01-22</td>\n",
       "      <td>0</td>\n",
       "    </tr>\n",
       "    <tr>\n",
       "      <th>8</th>\n",
       "      <td>NaN</td>\n",
       "      <td>Armenia</td>\n",
       "      <td>40.06910</td>\n",
       "      <td>45.038200</td>\n",
       "      <td>2020-01-22</td>\n",
       "      <td>0</td>\n",
       "    </tr>\n",
       "    <tr>\n",
       "      <th>9</th>\n",
       "      <td>Australian Capital Territory</td>\n",
       "      <td>Australia</td>\n",
       "      <td>-35.47350</td>\n",
       "      <td>149.012400</td>\n",
       "      <td>2020-01-22</td>\n",
       "      <td>0</td>\n",
       "    </tr>\n",
       "  </tbody>\n",
       "</table>\n",
       "</div>"
      ],
      "text/plain": [
       "               provincia_estado          pais_regiao  latitude   longitude  \\\n",
       "0                           NaN          Afghanistan  33.93911   67.709953   \n",
       "1                           NaN              Albania  41.15330   20.168300   \n",
       "2                           NaN              Algeria  28.03390    1.659600   \n",
       "3                           NaN              Andorra  42.50630    1.521800   \n",
       "4                           NaN               Angola -11.20270   17.873900   \n",
       "5                           NaN           Antarctica -71.94990   23.347000   \n",
       "6                           NaN  Antigua and Barbuda  17.06080  -61.796400   \n",
       "7                           NaN            Argentina -38.41610  -63.616700   \n",
       "8                           NaN              Armenia  40.06910   45.038200   \n",
       "9  Australian Capital Territory            Australia -35.47350  149.012400   \n",
       "\n",
       "        data  casos_confirmados  \n",
       "0 2020-01-22                  0  \n",
       "1 2020-01-22                  0  \n",
       "2 2020-01-22                  0  \n",
       "3 2020-01-22                  0  \n",
       "4 2020-01-22                  0  \n",
       "5 2020-01-22                  0  \n",
       "6 2020-01-22                  0  \n",
       "7 2020-01-22                  0  \n",
       "8 2020-01-22                  0  \n",
       "9 2020-01-22                  0  "
      ]
     },
     "execution_count": 28,
     "metadata": {},
     "output_type": "execute_result"
    }
   ],
   "source": [
    "df.head(10)"
   ]
  },
  {
   "cell_type": "code",
   "execution_count": 40,
   "metadata": {},
   "outputs": [],
   "source": [
    "data_maxima = df.groupby(\"pais_regiao\")[\"data\"].max().unique()[0]\n",
    "acumulado_casos = df[df[\"data\"] == data_maxima]"
   ]
  },
  {
   "cell_type": "code",
   "execution_count": 41,
   "metadata": {},
   "outputs": [
    {
     "data": {
      "text/html": [
       "<div>\n",
       "<style scoped>\n",
       "    .dataframe tbody tr th:only-of-type {\n",
       "        vertical-align: middle;\n",
       "    }\n",
       "\n",
       "    .dataframe tbody tr th {\n",
       "        vertical-align: top;\n",
       "    }\n",
       "\n",
       "    .dataframe thead th {\n",
       "        text-align: right;\n",
       "    }\n",
       "</style>\n",
       "<table border=\"1\" class=\"dataframe\">\n",
       "  <thead>\n",
       "    <tr style=\"text-align: right;\">\n",
       "      <th></th>\n",
       "      <th>pais_regiao</th>\n",
       "      <th>provincia_estado</th>\n",
       "      <th>data</th>\n",
       "      <th>casos_confirmados</th>\n",
       "    </tr>\n",
       "  </thead>\n",
       "  <tbody>\n",
       "    <tr>\n",
       "      <th>217534</th>\n",
       "      <td>Uruguay</td>\n",
       "      <td>NaN</td>\n",
       "      <td>2022-02-25</td>\n",
       "      <td>835346</td>\n",
       "    </tr>\n",
       "    <tr>\n",
       "      <th>217535</th>\n",
       "      <td>Uzbekistan</td>\n",
       "      <td>NaN</td>\n",
       "      <td>2022-02-25</td>\n",
       "      <td>236036</td>\n",
       "    </tr>\n",
       "    <tr>\n",
       "      <th>217536</th>\n",
       "      <td>Vanuatu</td>\n",
       "      <td>NaN</td>\n",
       "      <td>2022-02-25</td>\n",
       "      <td>19</td>\n",
       "    </tr>\n",
       "    <tr>\n",
       "      <th>217537</th>\n",
       "      <td>Venezuela</td>\n",
       "      <td>NaN</td>\n",
       "      <td>2022-02-25</td>\n",
       "      <td>513427</td>\n",
       "    </tr>\n",
       "    <tr>\n",
       "      <th>217538</th>\n",
       "      <td>Vietnam</td>\n",
       "      <td>NaN</td>\n",
       "      <td>2022-02-25</td>\n",
       "      <td>3120301</td>\n",
       "    </tr>\n",
       "    <tr>\n",
       "      <th>217539</th>\n",
       "      <td>West Bank and Gaza</td>\n",
       "      <td>NaN</td>\n",
       "      <td>2022-02-25</td>\n",
       "      <td>640214</td>\n",
       "    </tr>\n",
       "    <tr>\n",
       "      <th>217540</th>\n",
       "      <td>Winter Olympics 2022</td>\n",
       "      <td>NaN</td>\n",
       "      <td>2022-02-25</td>\n",
       "      <td>514</td>\n",
       "    </tr>\n",
       "    <tr>\n",
       "      <th>217541</th>\n",
       "      <td>Yemen</td>\n",
       "      <td>NaN</td>\n",
       "      <td>2022-02-25</td>\n",
       "      <td>11759</td>\n",
       "    </tr>\n",
       "    <tr>\n",
       "      <th>217542</th>\n",
       "      <td>Zambia</td>\n",
       "      <td>NaN</td>\n",
       "      <td>2022-02-25</td>\n",
       "      <td>312374</td>\n",
       "    </tr>\n",
       "    <tr>\n",
       "      <th>217543</th>\n",
       "      <td>Zimbabwe</td>\n",
       "      <td>NaN</td>\n",
       "      <td>2022-02-25</td>\n",
       "      <td>235467</td>\n",
       "    </tr>\n",
       "  </tbody>\n",
       "</table>\n",
       "</div>"
      ],
      "text/plain": [
       "                 pais_regiao provincia_estado       data  casos_confirmados\n",
       "217534               Uruguay              NaN 2022-02-25             835346\n",
       "217535            Uzbekistan              NaN 2022-02-25             236036\n",
       "217536               Vanuatu              NaN 2022-02-25                 19\n",
       "217537             Venezuela              NaN 2022-02-25             513427\n",
       "217538               Vietnam              NaN 2022-02-25            3120301\n",
       "217539    West Bank and Gaza              NaN 2022-02-25             640214\n",
       "217540  Winter Olympics 2022              NaN 2022-02-25                514\n",
       "217541                 Yemen              NaN 2022-02-25              11759\n",
       "217542                Zambia              NaN 2022-02-25             312374\n",
       "217543              Zimbabwe              NaN 2022-02-25             235467"
      ]
     },
     "execution_count": 41,
     "metadata": {},
     "output_type": "execute_result"
    }
   ],
   "source": [
    "acumulado_casos2 = acumulado_casos[[\"pais_regiao\", \"provincia_estado\", \"data\", \"casos_confirmados\"]]\n",
    "acumulado_casos2.tail(10)"
   ]
  },
  {
   "cell_type": "markdown",
   "metadata": {},
   "source": [
    "# VISUALIZAÇÃO"
   ]
  },
  {
   "cell_type": "markdown",
   "metadata": {},
   "source": [
    "Países com mais casos de COVID"
   ]
  },
  {
   "cell_type": "code",
   "execution_count": 44,
   "metadata": {},
   "outputs": [],
   "source": [
    "top_10 = acumulado_casos2[[\"pais_regiao\", \"casos_confirmados\"]].sort_values(ascending = False, by = 'casos_confirmados').head(10)"
   ]
  },
  {
   "cell_type": "code",
   "execution_count": 43,
   "metadata": {},
   "outputs": [
    {
     "data": {
      "image/png": "[encoded data removed]",
      "text/plain": [
       "<Figure size 1440x576 with 1 Axes>"
      ]
     },
     "metadata": {
      "needs_background": "light"
     },
     "output_type": "display_data"
    }
   ],
   "source": [
    "plt.figure(figsize = (20, 8))\n",
    "\n",
    "sns.barplot(data = top_10, x = 'pais_regiao', y = 'casos_confirmados')\n",
    "\n",
    "plt.title(\"Top 10 países com mais casos de COVID\")\n",
    "plt.ylabel(\"Casos\")\n",
    "plt.xlabel(\"País\")\n",
    "\n",
    "plt.show()"
   ]
  },
  {
   "cell_type": "markdown",
   "metadata": {},
   "source": [
    "Evolução do número de casos no Brasil"
   ]
  },
  {
   "cell_type": "code",
   "execution_count": 45,
   "metadata": {},
   "outputs": [],
   "source": [
    "br = df[df[\"pais_regiao\"] == \"Brazil\"].sort_values(by = \"data\")"
   ]
  },
  {
   "cell_type": "code",
   "execution_count": 47,
   "metadata": {},
   "outputs": [
    {
     "data": {
      "image/png": "[encoded data removed]",
      "text/plain": [
       "<Figure size 1080x360 with 1 Axes>"
      ]
     },
     "metadata": {
      "needs_background": "light"
     },
     "output_type": "display_data"
    }
   ],
   "source": [
    "plt.figure(figsize = (15,5))\n",
    "\n",
    "sns.lineplot(data = br, x = \"data\", y = \"casos_confirmados\")\n",
    "\n",
    "plt.title(\"Casos confirmados no Brasil\")\n",
    "plt.ylabel(\"Casos\")\n",
    "plt.xlabel(\"Data\")\n",
    "\n",
    "plt.show()"
   ]
  },
  {
   "cell_type": "markdown",
   "metadata": {},
   "source": [
    "Novos casos por dia"
   ]
  },
  {
   "cell_type": "code",
   "execution_count": 48,
   "metadata": {},
   "outputs": [],
   "source": [
    "data_stats = br.copy()\n",
    "data_stats[\"novos_casos\"] = br[\"casos_confirmados\"].diff()\n",
    "data_stats[\"media_7\"] = data_stats.novos_casos.rolling(7).mean()\n",
    "data_stats = data_stats[[\"data\", \"novos_casos\", \"media_7\"]]"
   ]
  },
  {
   "cell_type": "code",
   "execution_count": 62,
   "metadata": {},
   "outputs": [
    {
     "data": {
      "image/png": "[encoded data removed]",
      "text/plain": [
       "<Figure size 1080x360 with 1 Axes>"
      ]
     },
     "metadata": {
      "needs_background": "light"
     },
     "output_type": "display_data"
    }
   ],
   "source": [
    "plt.figure(figsize = (15,5))\n",
    "\n",
    "sns.lineplot(data = data_stats, x = \"data\", y = \"novos_casos\")\n",
    "sns.lineplot(data = data_stats, x = \"data\", y = \"media_7\", linestyle = '--')\n",
    "\n",
    "\n",
    "\n",
    "plt.title(\"Casos confirmados no Brasil\")\n",
    "plt.ylabel(\"Casos\")\n",
    "plt.xlabel(\"Data\")\n",
    "plt.legend([\"Novos casos\",\"Média móvel (7 dias)\"])\n",
    "\n",
    "plt.show()"
   ]
  }
 ],
 "metadata": {
  "interpreter": {
   "hash": "6d46af94c2bbce495f1e668725902fa517c90b1782bcfe2fce0dd9868df553d3"
  },
  "kernelspec": {
   "display_name": "Python 3 (ipykernel)",
   "language": "python",
   "name": "python3"
  },
  "language_info": {
   "codemirror_mode": {
    "name": "ipython",
    "version": 3
   },
   "file_extension": ".py",
   "mimetype": "text/x-python",
   "name": "python",
   "nbconvert_exporter": "python",
   "pygments_lexer": "ipython3",
   "version": "3.9.7"
  }
 },
 "nbformat": 4,
 "nbformat_minor": 2
}
