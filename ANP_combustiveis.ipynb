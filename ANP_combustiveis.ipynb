{
 "cells": [
  {
   "cell_type": "markdown",
   "id": "ef51ddab",
   "metadata": {},
   "source": [
    "# VENDAS DE COMBUSTÍVEL NO BRASIL (ANP)"
   ]
  },
  {
   "cell_type": "markdown",
   "id": "bdec0d42",
   "metadata": {},
   "source": [
    "Script para extrair as bases de dados em https://www.gov.br/anp/pt-br/centrais-de-conteudo/dados-abertos/vendas-de-derivados-de-petroleo-e-biocombustiveis\n"
   ]
  },
  {
   "cell_type": "markdown",
   "id": "85754254",
   "metadata": {},
   "source": [
    "Disponibilidades:\n",
    "- Histórico\n",
    "- Histórico por município"
   ]
  },
  {
   "cell_type": "markdown",
   "id": "604add3f",
   "metadata": {},
   "source": [
    "# HISTÓRICO"
   ]
  },
  {
   "cell_type": "code",
   "execution_count": null,
   "id": "584e0204",
   "metadata": {},
   "outputs": [],
   "source": [
    "import pandas as pd\n",
    "from bs4 import BeautifulSoup\n",
    "import requests\n",
    "import re\n",
    "\n",
    "from IPython.display import clear_output"
   ]
  },
  {
   "cell_type": "code",
   "execution_count": null,
   "id": "c9e286d5",
   "metadata": {},
   "outputs": [],
   "source": [
    "html = \"https://www.gov.br/anp/pt-br/centrais-de-conteudo/dados-abertos/vendas-de-derivados-de-petroleo-e-biocombustiveis\"\n",
    "\n",
    "page = requests.get(html)\n",
    "\n",
    "soup = BeautifulSoup(page.text, 'html.parser')"
   ]
  },
  {
   "cell_type": "code",
   "execution_count": null,
   "id": "11f3a72b",
   "metadata": {},
   "outputs": [],
   "source": [
    "# LINKS\n",
    "\n",
    "links_dados = []\n",
    "for a in soup.find_all('a', href=True):\n",
    "    if re.search(re.compile(\"dados-abertos\", flags = re.IGNORECASE), str(a)):\n",
    "        links_dados.append(a[\"href\"])\n",
    "\n",
    "links_historico = []\n",
    "for link in links_dados:\n",
    "    if re.search(re.compile(\"segmento\"), str(link)):\n",
    "        continue\n",
    "    if re.search(re.compile(\"m3\"), str(link)):\n",
    "        links_historico.append(link)"
   ]
  },
  {
   "cell_type": "code",
   "execution_count": null,
   "id": "9949764a",
   "metadata": {},
   "outputs": [],
   "source": [
    "# DOWNLOADS\n",
    "\n",
    "n = len(links_historico)\n",
    "i = 0\n",
    "\n",
    "combustiveis = pd.DataFrame()\n",
    "for link in links_historico:\n",
    "    df2 = pd.read_csv(link, sep = \";\", decimal = \",\")\n",
    "    if len(df2.columns) == 18:\n",
    "        df2 = df2.iloc[:,:-1]\n",
    "    if len(df2.columns) == 19:\n",
    "        df2 = df2.iloc[:,:-2]\n",
    "    if not combustiveis.empty:\n",
    "        colunas = combustiveis.columns\n",
    "        df2.columns = colunas\n",
    "    combustiveis = pd.concat([combustiveis, df2], axis = 0)\n",
    "    clear_output(wait = True)\n",
    "    i += 1\n",
    "    print(f\"{(i/n)*100}%\")"
   ]
  },
  {
   "cell_type": "code",
   "execution_count": null,
   "id": "ee625d1d",
   "metadata": {},
   "outputs": [],
   "source": [
    "# TRATA NOME DAS COLUNAS, CASO HAJA ESPAÇO ANTES OU DEPOIS DAS PALAVRAS\n",
    "colunas = []\n",
    "for nome in combustiveis.columns:\n",
    "    colunas.append(nome.strip())\n",
    "combustiveis.columns = colunas"
   ]
  },
  {
   "cell_type": "code",
   "execution_count": null,
   "id": "2257e9dc",
   "metadata": {},
   "outputs": [],
   "source": [
    "# TRANSFORMA FORMATO WIDE EM LONG\n",
    "combustiveis_melted = pd.melt(combustiveis, id_vars = combustiveis.columns[:5], value_vars = combustiveis.columns[5:], var_name=\"MES\", value_name=\"VENDAS\")"
   ]
  },
  {
   "cell_type": "code",
   "execution_count": null,
   "id": "1586495c",
   "metadata": {},
   "outputs": [],
   "source": [
    "# FUNÇÃO PARA JUNTAR COLUNA \"ANO\" E \"MES\" EM DATA\n",
    "\n",
    "def transforma_data(x):\n",
    "    \n",
    "    mes_dict = {\n",
    "    'JANEIRO': \"01\",\n",
    "    'FEVEREIRO': \"02\",\n",
    "    'MARÇO': \"03\",\n",
    "    'ABRIL': \"04\",\n",
    "    'MAIO': \"05\",\n",
    "    'JUNHO': \"06\",\n",
    "    'JULHO': \"07\",\n",
    "    'AGOSTO': \"08\",\n",
    "    'SETEMBRO': \"09\",\n",
    "    'OUTUBRO': \"10\",\n",
    "    'NOVEMBRO': \"11\",\n",
    "    'DEZEMBRO': \"12\",\n",
    "    }\n",
    "    \n",
    "    data = pd.to_datetime(str(x[\"ANO\"]) + \"-\" + mes_dict[x[\"MES\"]] + \"-\" + \"01\", format = \"%Y-%m-%d\")\n",
    "    return data\n",
    "    \n",
    "\n",
    "combustiveis_melted[\"DATA\"] = combustiveis_melted.apply(transforma_data, axis = 1)\n",
    "combustiveis_anp = combustiveis_melted[[\"COMBUSTÍVEL\", \"REGIÃO\", \"ESTADO\", \"DATA\", \"VENDAS\"]].dropna()\n",
    "combustiveis_uf = combustiveis_anp.sort_values(by = [\"COMBUSTÍVEL\", \"ESTADO\", \"DATA\"])"
   ]
  },
  {
   "cell_type": "code",
   "execution_count": null,
   "id": "0ef59656",
   "metadata": {},
   "outputs": [],
   "source": [
    "combustiveis_uf.head(6)"
   ]
  },
  {
   "cell_type": "markdown",
   "id": "25d20734",
   "metadata": {},
   "source": [
    "# MUNICÍPIOS"
   ]
  },
  {
   "cell_type": "code",
   "execution_count": null,
   "id": "41a9694d",
   "metadata": {},
   "outputs": [],
   "source": [
    "links_municipios = []\n",
    "for link in links_dados:\n",
    "    if re.search(re.compile(\"segmento\"), str(link)):\n",
    "        continue\n",
    "    if re.search(re.compile(\"municipio\"), str(link)) and re.search(re.compile(\".csv\"), str(link)):\n",
    "        links_municipios.append(link)"
   ]
  },
  {
   "cell_type": "code",
   "execution_count": null,
   "id": "d64a0804",
   "metadata": {},
   "outputs": [],
   "source": [
    "n = len(links_municipios)\n",
    "i = 0\n",
    "\n",
    "combustiveis = pd.DataFrame()\n",
    "for link in links_municipios:\n",
    "    clear_output(wait = True)    \n",
    "    try:\n",
    "        df2 = pd.read_csv(link, sep = \";\", decimal = \",\")\n",
    "    except:\n",
    "        df2 = pd.read_csv(link, sep = \";\", decimal = \",\", encoding = \"latin-1\")\n",
    "    if not combustiveis.empty:\n",
    "        colunas = combustiveis.columns\n",
    "        df2.columns = colunas\n",
    "    combustiveis = pd.concat([combustiveis, df2], axis = 0)\n",
    "    i += 1\n",
    "    print(f\"{round((i/n)*100,2)}%\")\n",
    "    \n",
    "combustiveis.loc[:, \"Vendas\"] = combustiveis[\"Vendas\"].str.replace(\".\", \"\")"
   ]
  },
  {
   "cell_type": "code",
   "execution_count": null,
   "id": "f829393f",
   "metadata": {},
   "outputs": [],
   "source": [
    "combustiveis.head(6)"
   ]
  }
 ],
 "metadata": {
  "kernelspec": {
   "display_name": "Python 3",
   "language": "python",
   "name": "python3"
  },
  "language_info": {
   "codemirror_mode": {
    "name": "ipython",
    "version": 3
   },
   "file_extension": ".py",
   "mimetype": "text/x-python",
   "name": "python",
   "nbconvert_exporter": "python",
   "pygments_lexer": "ipython3",
   "version": "3.8.8"
  }
 },
 "nbformat": 4,
 "nbformat_minor": 5
}
