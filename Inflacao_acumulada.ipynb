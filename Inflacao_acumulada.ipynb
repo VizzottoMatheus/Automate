{
 "cells": [
  {
   "cell_type": "markdown",
   "metadata": {},
   "source": [
    "Script para calcular a inflação acumulada no período \"x\" com base no índice \"y\" especificados pelo usuário."
   ]
  },
  {
   "cell_type": "code",
   "execution_count": 53,
   "metadata": {},
   "outputs": [],
   "source": [
    "import pandas as pd"
   ]
  },
  {
   "cell_type": "code",
   "execution_count": 75,
   "metadata": {},
   "outputs": [],
   "source": [
    "def get_cum_inf():\n",
    "    # LINK DA API DO BANCO CENTRAL\n",
    "    path = \"http://api.bcb.gov.br/dados/serie/bcdata.sgs.{}/dados?formato=csv\"\n",
    "    print(\"Qual o índice de preços (número)?\")\n",
    "    print(\"1. IPCA (Índice de Preços ao Consumidor Amplo)\\n2. IGP-M (Índice Geral de Preços do Mercado)\")\n",
    "\n",
    "    # MENU DE ÍNDICES\n",
    "    d_ind = {\"1\": 433, # IPCA\n",
    "            \"2\": 189  # IGP-M\n",
    "            }\n",
    "    while True:\n",
    "        x = input()\n",
    "        if x in d_ind.keys():\n",
    "            break\n",
    "        else: \n",
    "            print(\"Número não disponível. Tente novamente.\")\n",
    "    num_serie = d_ind[x]\n",
    "\n",
    "    \n",
    "    # INCLUSÃO DA SÉRIE NO LINK DA API E EXTRAÇAÕ DA BASE\n",
    "    link = path.format(num_serie)\n",
    "    df = pd.read_csv(link, sep =\";\", decimal = \",\", parse_dates = [\"data\"], dayfirst = True)\n",
    "\n",
    "    # INPUTS E FILTRO DE PERÍODO\n",
    "    print(\"\\nEscolha um período (formato de data YYYY-MM-DD)\")\n",
    "    print(\"Data inicial: \")\n",
    "    date_init = pd.to_datetime(input())\n",
    "    print(\"Data final: \")\n",
    "    date_fim = pd.to_datetime(input())\n",
    "\n",
    "    df_subset = df[(df[\"data\"] >= date_init) & (df[\"data\"] <= date_fim)]\n",
    "    df_subset.reset_index(drop = True, inplace = True)\n",
    "    \n",
    "    # CALCULA INFLAÇÃO ACUMULADA\n",
    "    l = []\n",
    "    for line_num, value in enumerate(df_subset[\"valor\"]):\n",
    "        value1 = value/100\n",
    "        if line_num == 0:\n",
    "            l.append(value1)\n",
    "        else:\n",
    "            x0 = value1 + 1\n",
    "            y_00 = l[line_num - 1]\n",
    "            y_01 = (x0 * y_00) + value1\n",
    "            l.append(y_01)\n",
    "    inf_per = l[-1] \n",
    "\n",
    "    d_ind = {\"1\": \"IPCA\",\n",
    "             \"2\": \"IGP-M\"\n",
    "             }\n",
    "    print(f\"\\nRESUMO:\\n- Índice: {d_ind[x]}\\n- Período: {str(date_init)[:10]} a {str(date_fim)[:10]}\\n- Inflação acumulada: {inf_per}\")\n",
    "    return inf_per + 1"
   ]
  },
  {
   "cell_type": "code",
   "execution_count": null,
   "metadata": {},
   "outputs": [],
   "source": [
    "get_cum_inf()"
   ]
  }
 ],
 "metadata": {
  "interpreter": {
   "hash": "6d46af94c2bbce495f1e668725902fa517c90b1782bcfe2fce0dd9868df553d3"
  },
  "kernelspec": {
   "display_name": "Python 3.8.8 64-bit ('base': conda)",
   "name": "python3"
  },
  "language_info": {
   "codemirror_mode": {
    "name": "ipython",
    "version": 3
   },
   "file_extension": ".py",
   "mimetype": "text/x-python",
   "name": "python",
   "nbconvert_exporter": "python",
   "pygments_lexer": "ipython3",
   "version": "3.8.8"
  },
  "orig_nbformat": 4
 },
 "nbformat": 4,
 "nbformat_minor": 2
}
