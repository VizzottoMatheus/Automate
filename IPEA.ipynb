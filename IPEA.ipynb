{
 "cells": [
  {
   "cell_type": "markdown",
   "id": "871dfc0c",
   "metadata": {},
   "source": [
    "# DADOS DO INSTITUTO DE PESQUISA ECONÔMICA APLICADA (IPEA)"
   ]
  },
  {
   "cell_type": "markdown",
   "id": "46ca1bae",
   "metadata": {},
   "source": [
    "Script para extrair dados do Ipeadata por meio de sua API."
   ]
  },
  {
   "cell_type": "code",
   "execution_count": null,
   "id": "da3f9e03",
   "metadata": {},
   "outputs": [],
   "source": [
    "import pandas as pd"
   ]
  },
  {
   "cell_type": "markdown",
   "id": "cef8ac1c",
   "metadata": {},
   "source": [
    "Tabela com os dados disponíveis na API"
   ]
  },
  {
   "cell_type": "code",
   "execution_count": null,
   "id": "20632d3f",
   "metadata": {},
   "outputs": [],
   "source": [
    "metadados = pd.read_json(\"http://www.ipeadata.gov.br/api/odata4/Metadados\")"
   ]
  },
  {
   "cell_type": "markdown",
   "id": "977f78f8",
   "metadata": {},
   "source": [
    "Os dados são disponibilizados em formato JSON; para montar o dataframe, basta transformar a segunda coluna do objeto \"metadados\" em uma lista de dicionários e depois aplicar \"pd.DataFrame()\""
   ]
  },
  {
   "cell_type": "code",
   "execution_count": null,
   "id": "7c29d777",
   "metadata": {},
   "outputs": [],
   "source": [
    "corresp = []\n",
    "for line in metadados.iloc[:,1]:\n",
    "    corresp.append(line)\n",
    "corresp = pd.DataFrame(corresp)"
   ]
  },
  {
   "cell_type": "markdown",
   "id": "a3cb4930",
   "metadata": {},
   "source": [
    "Para ver a lista completa de dados disponíveis na API:\n",
    "print(corresp[\"SERNOME\"].to_string())"
   ]
  },
  {
   "cell_type": "markdown",
   "id": "5a94b7ea",
   "metadata": {},
   "source": [
    "EXEMPLO: EMBI+"
   ]
  },
  {
   "cell_type": "code",
   "execution_count": null,
   "id": "c593b8ab",
   "metadata": {},
   "outputs": [],
   "source": [
    "sercodigo_embimais = corresp[corresp[\"SERNOME\"] ==  \"EMBI + Risco-Brasil\"][\"SERCODIGO\"].reset_index(drop = True)[0]\n",
    "\n",
    "api = f\"http://www.ipeadata.gov.br/api/odata4/ValoresSerie(SERCODIGO='{sercodigo_embimais}')\"\n",
    "embi_mais = pd.read_json(api)\n",
    "embi_dict = []\n",
    "for line in embi_mais[\"value\"]:\n",
    "    embi_dict.append(line)\n",
    "embi_mais_df = pd.DataFrame(embi_dict)\n",
    "\n",
    "# TRANSFORMAR COLUNA DE DATA\n",
    "embi_mais_df.loc[:,\"VALDATA\"] = embi_mais_df[\"VALDATA\"].apply(lambda x: pd.to_datetime(x[:10], format = \"%Y-%m-%d\"))\n",
    "embi_mais_df.head(5)"
   ]
  },
  {
   "cell_type": "markdown",
   "id": "f66aa0ef",
   "metadata": {},
   "source": [
    "# EXTRA: ipeadatapy"
   ]
  },
  {
   "cell_type": "markdown",
   "id": "3914f53f",
   "metadata": {},
   "source": [
    "Esse pacote, do Luan Borelli (https://www.luanborelli.net/2019/12/31/ipeadatapy/), facilita e extração dos dados do IPEA, pois disponibiliza alguns mecanismos de pesquisa."
   ]
  },
  {
   "cell_type": "code",
   "execution_count": 32,
   "id": "1a9ef9b0",
   "metadata": {},
   "outputs": [],
   "source": [
    "import ipeadatapy as idpy"
   ]
  },
  {
   "cell_type": "markdown",
   "id": "8f2a37a4",
   "metadata": {},
   "source": [
    "Busca código da série (sem o argumento 'EMBI +', lista todas as séries disponíveis)"
   ]
  },
  {
   "cell_type": "code",
   "execution_count": 42,
   "id": "988cfce4",
   "metadata": {},
   "outputs": [
    {
     "data": {
      "text/html": [
       "<div>\n",
       "<style scoped>\n",
       "    .dataframe tbody tr th:only-of-type {\n",
       "        vertical-align: middle;\n",
       "    }\n",
       "\n",
       "    .dataframe tbody tr th {\n",
       "        vertical-align: top;\n",
       "    }\n",
       "\n",
       "    .dataframe thead th {\n",
       "        text-align: right;\n",
       "    }\n",
       "</style>\n",
       "<table border=\"1\" class=\"dataframe\">\n",
       "  <thead>\n",
       "    <tr style=\"text-align: right;\">\n",
       "      <th></th>\n",
       "      <th>CODE</th>\n",
       "      <th>NAME</th>\n",
       "    </tr>\n",
       "  </thead>\n",
       "  <tbody>\n",
       "    <tr>\n",
       "      <th>7994</th>\n",
       "      <td>JPM366_EMBI366</td>\n",
       "      <td>EMBI + Risco-Brasil</td>\n",
       "    </tr>\n",
       "  </tbody>\n",
       "</table>\n",
       "</div>"
      ],
      "text/plain": [
       "                CODE                 NAME\n",
       "7994  JPM366_EMBI366  EMBI + Risco-Brasil"
      ]
     },
     "execution_count": 42,
     "metadata": {},
     "output_type": "execute_result"
    }
   ],
   "source": [
    "idpy.list_series(\"EMBI +\")"
   ]
  },
  {
   "cell_type": "markdown",
   "id": "9814a40c",
   "metadata": {},
   "source": [
    "Descreve a série"
   ]
  },
  {
   "cell_type": "code",
   "execution_count": 43,
   "id": "fd34b599",
   "metadata": {},
   "outputs": [
    {
     "data": {
      "text/html": [
       "<div>\n",
       "<style scoped>\n",
       "    .dataframe tbody tr th:only-of-type {\n",
       "        vertical-align: middle;\n",
       "    }\n",
       "\n",
       "    .dataframe tbody tr th {\n",
       "        vertical-align: top;\n",
       "    }\n",
       "\n",
       "    .dataframe thead th {\n",
       "        text-align: right;\n",
       "    }\n",
       "</style>\n",
       "<table border=\"1\" class=\"dataframe\">\n",
       "  <thead>\n",
       "    <tr style=\"text-align: right;\">\n",
       "      <th></th>\n",
       "      <th>EMBI + Risco-Brasil</th>\n",
       "    </tr>\n",
       "  </thead>\n",
       "  <tbody>\n",
       "    <tr>\n",
       "      <th>Name</th>\n",
       "      <td>EMBI + Risco-Brasil</td>\n",
       "    </tr>\n",
       "    <tr>\n",
       "      <th>Code</th>\n",
       "      <td>JPM366_EMBI366</td>\n",
       "    </tr>\n",
       "    <tr>\n",
       "      <th>Big Theme</th>\n",
       "      <td>Macroeconômico</td>\n",
       "    </tr>\n",
       "    <tr>\n",
       "      <th>Theme</th>\n",
       "      <td>Financeiras</td>\n",
       "    </tr>\n",
       "    <tr>\n",
       "      <th>Source</th>\n",
       "      <td>JP Morgan</td>\n",
       "    </tr>\n",
       "    <tr>\n",
       "      <th>Source acronym</th>\n",
       "      <td>JP Morgan</td>\n",
       "    </tr>\n",
       "    <tr>\n",
       "      <th>Comment</th>\n",
       "      <td>O EMBI+ (Emerging Markets Bond Index Plus) est...</td>\n",
       "    </tr>\n",
       "    <tr>\n",
       "      <th>Last update</th>\n",
       "      <td>2021-07-09T16:16:00.45-03:00</td>\n",
       "    </tr>\n",
       "    <tr>\n",
       "      <th>Frequency</th>\n",
       "      <td>Diária</td>\n",
       "    </tr>\n",
       "    <tr>\n",
       "      <th>Measure</th>\n",
       "      <td>-</td>\n",
       "    </tr>\n",
       "    <tr>\n",
       "      <th>Unit</th>\n",
       "      <td>.</td>\n",
       "    </tr>\n",
       "    <tr>\n",
       "      <th>Status</th>\n",
       "      <td>A</td>\n",
       "    </tr>\n",
       "  </tbody>\n",
       "</table>\n",
       "</div>"
      ],
      "text/plain": [
       "                                              EMBI + Risco-Brasil\n",
       "Name                                          EMBI + Risco-Brasil\n",
       "Code                                               JPM366_EMBI366\n",
       "Big Theme                                          Macroeconômico\n",
       "Theme                                                 Financeiras\n",
       "Source                                                  JP Morgan\n",
       "Source acronym                                          JP Morgan\n",
       "Comment         O EMBI+ (Emerging Markets Bond Index Plus) est...\n",
       "Last update                          2021-07-09T16:16:00.45-03:00\n",
       "Frequency                                                  Diária\n",
       "Measure                                                         -\n",
       "Unit                                                            .\n",
       "Status                                                          A"
      ]
     },
     "execution_count": 43,
     "metadata": {},
     "output_type": "execute_result"
    }
   ],
   "source": [
    "idpy.describe(\"JPM366_EMBI366\")"
   ]
  },
  {
   "cell_type": "markdown",
   "id": "f1d2866e",
   "metadata": {},
   "source": [
    "Extrai a série"
   ]
  },
  {
   "cell_type": "code",
   "execution_count": 44,
   "id": "aa6851dc",
   "metadata": {},
   "outputs": [
    {
     "data": {
      "text/html": [
       "<div>\n",
       "<style scoped>\n",
       "    .dataframe tbody tr th:only-of-type {\n",
       "        vertical-align: middle;\n",
       "    }\n",
       "\n",
       "    .dataframe tbody tr th {\n",
       "        vertical-align: top;\n",
       "    }\n",
       "\n",
       "    .dataframe thead th {\n",
       "        text-align: right;\n",
       "    }\n",
       "</style>\n",
       "<table border=\"1\" class=\"dataframe\">\n",
       "  <thead>\n",
       "    <tr style=\"text-align: right;\">\n",
       "      <th></th>\n",
       "      <th>YEAR</th>\n",
       "      <th>DAY</th>\n",
       "      <th>MONTH</th>\n",
       "      <th>CODE</th>\n",
       "      <th>RAW DATE</th>\n",
       "      <th>VALUE (-)</th>\n",
       "    </tr>\n",
       "    <tr>\n",
       "      <th>DATE</th>\n",
       "      <th></th>\n",
       "      <th></th>\n",
       "      <th></th>\n",
       "      <th></th>\n",
       "      <th></th>\n",
       "      <th></th>\n",
       "    </tr>\n",
       "  </thead>\n",
       "  <tbody>\n",
       "    <tr>\n",
       "      <th>1994-04-29</th>\n",
       "      <td>1994</td>\n",
       "      <td>29</td>\n",
       "      <td>4</td>\n",
       "      <td>JPM366_EMBI366</td>\n",
       "      <td>1994-04-29T00:00:00-03:00</td>\n",
       "      <td>1120.0</td>\n",
       "    </tr>\n",
       "    <tr>\n",
       "      <th>1994-04-30</th>\n",
       "      <td>1994</td>\n",
       "      <td>30</td>\n",
       "      <td>4</td>\n",
       "      <td>JPM366_EMBI366</td>\n",
       "      <td>1994-04-30T00:00:00-03:00</td>\n",
       "      <td>NaN</td>\n",
       "    </tr>\n",
       "    <tr>\n",
       "      <th>1994-05-01</th>\n",
       "      <td>1994</td>\n",
       "      <td>1</td>\n",
       "      <td>5</td>\n",
       "      <td>JPM366_EMBI366</td>\n",
       "      <td>1994-05-01T00:00:00-03:00</td>\n",
       "      <td>NaN</td>\n",
       "    </tr>\n",
       "    <tr>\n",
       "      <th>1994-05-02</th>\n",
       "      <td>1994</td>\n",
       "      <td>2</td>\n",
       "      <td>5</td>\n",
       "      <td>JPM366_EMBI366</td>\n",
       "      <td>1994-05-02T00:00:00-03:00</td>\n",
       "      <td>1131.0</td>\n",
       "    </tr>\n",
       "    <tr>\n",
       "      <th>1994-05-03</th>\n",
       "      <td>1994</td>\n",
       "      <td>3</td>\n",
       "      <td>5</td>\n",
       "      <td>JPM366_EMBI366</td>\n",
       "      <td>1994-05-03T00:00:00-03:00</td>\n",
       "      <td>1081.0</td>\n",
       "    </tr>\n",
       "    <tr>\n",
       "      <th>...</th>\n",
       "      <td>...</td>\n",
       "      <td>...</td>\n",
       "      <td>...</td>\n",
       "      <td>...</td>\n",
       "      <td>...</td>\n",
       "      <td>...</td>\n",
       "    </tr>\n",
       "    <tr>\n",
       "      <th>2021-07-02</th>\n",
       "      <td>2021</td>\n",
       "      <td>2</td>\n",
       "      <td>7</td>\n",
       "      <td>JPM366_EMBI366</td>\n",
       "      <td>2021-07-02T00:00:00-03:00</td>\n",
       "      <td>279.0</td>\n",
       "    </tr>\n",
       "    <tr>\n",
       "      <th>2021-07-05</th>\n",
       "      <td>2021</td>\n",
       "      <td>5</td>\n",
       "      <td>7</td>\n",
       "      <td>JPM366_EMBI366</td>\n",
       "      <td>2021-07-05T00:00:00-03:00</td>\n",
       "      <td>279.0</td>\n",
       "    </tr>\n",
       "    <tr>\n",
       "      <th>2021-07-06</th>\n",
       "      <td>2021</td>\n",
       "      <td>6</td>\n",
       "      <td>7</td>\n",
       "      <td>JPM366_EMBI366</td>\n",
       "      <td>2021-07-06T00:00:00-03:00</td>\n",
       "      <td>287.0</td>\n",
       "    </tr>\n",
       "    <tr>\n",
       "      <th>2021-07-07</th>\n",
       "      <td>2021</td>\n",
       "      <td>7</td>\n",
       "      <td>7</td>\n",
       "      <td>JPM366_EMBI366</td>\n",
       "      <td>2021-07-07T00:00:00-03:00</td>\n",
       "      <td>291.0</td>\n",
       "    </tr>\n",
       "    <tr>\n",
       "      <th>2021-07-08</th>\n",
       "      <td>2021</td>\n",
       "      <td>8</td>\n",
       "      <td>7</td>\n",
       "      <td>JPM366_EMBI366</td>\n",
       "      <td>2021-07-08T00:00:00-03:00</td>\n",
       "      <td>294.0</td>\n",
       "    </tr>\n",
       "  </tbody>\n",
       "</table>\n",
       "<p>9355 rows × 6 columns</p>\n",
       "</div>"
      ],
      "text/plain": [
       "            YEAR  DAY  MONTH            CODE                   RAW DATE  \\\n",
       "DATE                                                                      \n",
       "1994-04-29  1994   29      4  JPM366_EMBI366  1994-04-29T00:00:00-03:00   \n",
       "1994-04-30  1994   30      4  JPM366_EMBI366  1994-04-30T00:00:00-03:00   \n",
       "1994-05-01  1994    1      5  JPM366_EMBI366  1994-05-01T00:00:00-03:00   \n",
       "1994-05-02  1994    2      5  JPM366_EMBI366  1994-05-02T00:00:00-03:00   \n",
       "1994-05-03  1994    3      5  JPM366_EMBI366  1994-05-03T00:00:00-03:00   \n",
       "...          ...  ...    ...             ...                        ...   \n",
       "2021-07-02  2021    2      7  JPM366_EMBI366  2021-07-02T00:00:00-03:00   \n",
       "2021-07-05  2021    5      7  JPM366_EMBI366  2021-07-05T00:00:00-03:00   \n",
       "2021-07-06  2021    6      7  JPM366_EMBI366  2021-07-06T00:00:00-03:00   \n",
       "2021-07-07  2021    7      7  JPM366_EMBI366  2021-07-07T00:00:00-03:00   \n",
       "2021-07-08  2021    8      7  JPM366_EMBI366  2021-07-08T00:00:00-03:00   \n",
       "\n",
       "            VALUE (-)  \n",
       "DATE                   \n",
       "1994-04-29     1120.0  \n",
       "1994-04-30        NaN  \n",
       "1994-05-01        NaN  \n",
       "1994-05-02     1131.0  \n",
       "1994-05-03     1081.0  \n",
       "...               ...  \n",
       "2021-07-02      279.0  \n",
       "2021-07-05      279.0  \n",
       "2021-07-06      287.0  \n",
       "2021-07-07      291.0  \n",
       "2021-07-08      294.0  \n",
       "\n",
       "[9355 rows x 6 columns]"
      ]
     },
     "execution_count": 44,
     "metadata": {},
     "output_type": "execute_result"
    }
   ],
   "source": [
    "embi_mais_ts = idpy.timeseries(\"JPM366_EMBI366\")\n",
    "embi_mais_ts"
   ]
  }
 ],
 "metadata": {
  "kernelspec": {
   "display_name": "Python 3",
   "language": "python",
   "name": "python3"
  },
  "language_info": {
   "codemirror_mode": {
    "name": "ipython",
    "version": 3
   },
   "file_extension": ".py",
   "mimetype": "text/x-python",
   "name": "python",
   "nbconvert_exporter": "python",
   "pygments_lexer": "ipython3",
   "version": "3.8.8"
  }
 },
 "nbformat": 4,
 "nbformat_minor": 5
}
