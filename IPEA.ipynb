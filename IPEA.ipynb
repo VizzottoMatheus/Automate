{
 "cells": [
  {
   "cell_type": "markdown",
   "id": "0326a556",
   "metadata": {},
   "source": [
    "# DADOS DO INSTITUTO DE PESQUISA ECONÔMICA APLICADA (IPEA)"
   ]
  },
  {
   "cell_type": "markdown",
   "id": "e3492376",
   "metadata": {},
   "source": [
    "Script para extrair dados do Ipeadata por meio de sua API:\n",
    "\n",
    "\"http://www.ipeadata.gov.br/api/odata4/ValoresSerie(SERCODIGO=\'codigo da serie\')\""
   ]
  },
  {
   "cell_type": "code",
   "execution_count": 1,
   "id": "bd57c898",
   "metadata": {},
   "outputs": [],
   "source": [
    "import pandas as pd"
   ]
  },
  {
   "cell_type": "markdown",
   "id": "4353f9d5",
   "metadata": {},
   "source": [
    "Tabela com os dados disponíveis na API:"
   ]
  },
  {
   "cell_type": "code",
   "execution_count": 2,
   "id": "0b7050db",
   "metadata": {},
   "outputs": [],
   "source": [
    "metadados = pd.read_json(\"http://www.ipeadata.gov.br/api/odata4/Metadados\")"
   ]
  },
  {
   "cell_type": "markdown",
   "id": "4f0f00f9",
   "metadata": {},
   "source": [
    "Os dados são disponibilizados em formato JSON; para montar o dataframe, basta transformar a segunda coluna do objeto \"metadados\" em uma lista de dicionários e depois aplicar \"pd.DataFrame()\"."
   ]
  },
  {
   "cell_type": "code",
   "execution_count": 3,
   "id": "0fa6c16a",
   "metadata": {},
   "outputs": [],
   "source": [
    "corresp = []\n",
    "for line in metadados.iloc[:,1]:\n",
    "    corresp.append(line)\n",
    "corresp = pd.DataFrame(corresp)"
   ]
  },
  {
   "cell_type": "markdown",
   "id": "5e122b35",
   "metadata": {},
   "source": [
    "Para ver a lista completa de dados disponíveis na API:\n",
    "print(corresp[\"SERNOME\"].to_string())"
   ]
  },
  {
   "cell_type": "markdown",
   "id": "81abd6a5",
   "metadata": {},
   "source": [
    "EXEMPLO: EMBI+"
   ]
  },
  {
   "cell_type": "code",
   "execution_count": 4,
   "id": "f7cb17ad",
   "metadata": {},
   "outputs": [
    {
     "data": {
      "text/html": [
       "<div>\n",
       "<style scoped>\n",
       "    .dataframe tbody tr th:only-of-type {\n",
       "        vertical-align: middle;\n",
       "    }\n",
       "\n",
       "    .dataframe tbody tr th {\n",
       "        vertical-align: top;\n",
       "    }\n",
       "\n",
       "    .dataframe thead th {\n",
       "        text-align: right;\n",
       "    }\n",
       "</style>\n",
       "<table border=\"1\" class=\"dataframe\">\n",
       "  <thead>\n",
       "    <tr style=\"text-align: right;\">\n",
       "      <th></th>\n",
       "      <th>SERCODIGO</th>\n",
       "      <th>VALDATA</th>\n",
       "      <th>VALVALOR</th>\n",
       "      <th>NIVNOME</th>\n",
       "      <th>TERCODIGO</th>\n",
       "    </tr>\n",
       "  </thead>\n",
       "  <tbody>\n",
       "    <tr>\n",
       "      <th>0</th>\n",
       "      <td>JPM366_EMBI366</td>\n",
       "      <td>1994-04-29</td>\n",
       "      <td>1120.0</td>\n",
       "      <td></td>\n",
       "      <td></td>\n",
       "    </tr>\n",
       "    <tr>\n",
       "      <th>1</th>\n",
       "      <td>JPM366_EMBI366</td>\n",
       "      <td>1994-04-30</td>\n",
       "      <td>NaN</td>\n",
       "      <td></td>\n",
       "      <td></td>\n",
       "    </tr>\n",
       "    <tr>\n",
       "      <th>2</th>\n",
       "      <td>JPM366_EMBI366</td>\n",
       "      <td>1994-05-01</td>\n",
       "      <td>NaN</td>\n",
       "      <td></td>\n",
       "      <td></td>\n",
       "    </tr>\n",
       "    <tr>\n",
       "      <th>3</th>\n",
       "      <td>JPM366_EMBI366</td>\n",
       "      <td>1994-05-02</td>\n",
       "      <td>1131.0</td>\n",
       "      <td></td>\n",
       "      <td></td>\n",
       "    </tr>\n",
       "    <tr>\n",
       "      <th>4</th>\n",
       "      <td>JPM366_EMBI366</td>\n",
       "      <td>1994-05-03</td>\n",
       "      <td>1081.0</td>\n",
       "      <td></td>\n",
       "      <td></td>\n",
       "    </tr>\n",
       "  </tbody>\n",
       "</table>\n",
       "</div>"
      ],
      "text/plain": [
       "        SERCODIGO    VALDATA  VALVALOR NIVNOME TERCODIGO\n",
       "0  JPM366_EMBI366 1994-04-29    1120.0                  \n",
       "1  JPM366_EMBI366 1994-04-30       NaN                  \n",
       "2  JPM366_EMBI366 1994-05-01       NaN                  \n",
       "3  JPM366_EMBI366 1994-05-02    1131.0                  \n",
       "4  JPM366_EMBI366 1994-05-03    1081.0                  "
      ]
     },
     "execution_count": 4,
     "metadata": {},
     "output_type": "execute_result"
    }
   ],
   "source": [
    "sercodigo_embimais = corresp[corresp[\"SERNOME\"] ==  \"EMBI + Risco-Brasil\"][\"SERCODIGO\"].reset_index(drop = True)[0]\n",
    "\n",
    "# Cria link de extração dos dados\n",
    "api = f\"http://www.ipeadata.gov.br/api/odata4/ValoresSerie(SERCODIGO='{sercodigo_embimais}')\"\n",
    "\n",
    "# Lê o arquivo em JSON e transforma em um dataframe\n",
    "embi_mais = pd.read_json(api)\n",
    "embi_dict = []\n",
    "for line in embi_mais[\"value\"]:\n",
    "    embi_dict.append(line)\n",
    "embi_mais_df = pd.DataFrame(embi_dict)\n",
    "\n",
    "# (OPCIONAL) Transforma coluna de data\n",
    "embi_mais_df.loc[:,\"VALDATA\"] = embi_mais_df[\"VALDATA\"].apply(lambda x: pd.to_datetime(x[:10], format = \"%Y-%m-%d\"))\n",
    "embi_mais_df.head(5)"
   ]
  },
  {
   "cell_type": "markdown",
   "id": "3d49a3bf",
   "metadata": {},
   "source": [
    "# EXTRA: ipeadatapy"
   ]
  },
  {
   "cell_type": "markdown",
   "id": "b751f363",
   "metadata": {},
   "source": [
    "Esse pacote, do Luan Borelli (https://www.luanborelli.net/2019/12/31/ipeadatapy/), facilita e extração dos dados do IPEA, pois disponibiliza alguns mecanismos de pesquisa."
   ]
  },
  {
   "cell_type": "code",
   "execution_count": 5,
   "id": "f1f1ffe5",
   "metadata": {},
   "outputs": [],
   "source": [
    "import ipeadatapy as idpy"
   ]
  },
  {
   "cell_type": "markdown",
   "id": "df3c2039",
   "metadata": {},
   "source": [
    "Busca código da série (sem o argumento 'EMBI +', lista todas as séries disponíveis):"
   ]
  },
  {
   "cell_type": "code",
   "execution_count": 6,
   "id": "f53ae2c4",
   "metadata": {},
   "outputs": [
    {
     "data": {
      "text/html": [
       "<div>\n",
       "<style scoped>\n",
       "    .dataframe tbody tr th:only-of-type {\n",
       "        vertical-align: middle;\n",
       "    }\n",
       "\n",
       "    .dataframe tbody tr th {\n",
       "        vertical-align: top;\n",
       "    }\n",
       "\n",
       "    .dataframe thead th {\n",
       "        text-align: right;\n",
       "    }\n",
       "</style>\n",
       "<table border=\"1\" class=\"dataframe\">\n",
       "  <thead>\n",
       "    <tr style=\"text-align: right;\">\n",
       "      <th></th>\n",
       "      <th>CODE</th>\n",
       "      <th>NAME</th>\n",
       "    </tr>\n",
       "  </thead>\n",
       "  <tbody>\n",
       "    <tr>\n",
       "      <th>7994</th>\n",
       "      <td>JPM366_EMBI366</td>\n",
       "      <td>EMBI + Risco-Brasil</td>\n",
       "    </tr>\n",
       "  </tbody>\n",
       "</table>\n",
       "</div>"
      ],
      "text/plain": [
       "                CODE                 NAME\n",
       "7994  JPM366_EMBI366  EMBI + Risco-Brasil"
      ]
     },
     "execution_count": 6,
     "metadata": {},
     "output_type": "execute_result"
    }
   ],
   "source": [
    "idpy.list_series(\"EMBI +\")"
   ]
  },
  {
   "cell_type": "markdown",
   "id": "0aa982a2",
   "metadata": {},
   "source": [
    "Descreve a série:"
   ]
  },
  {
   "cell_type": "code",
   "execution_count": 7,
   "id": "89970d08",
   "metadata": {},
   "outputs": [
    {
     "data": {
      "text/html": [
       "<div>\n",
       "<style scoped>\n",
       "    .dataframe tbody tr th:only-of-type {\n",
       "        vertical-align: middle;\n",
       "    }\n",
       "\n",
       "    .dataframe tbody tr th {\n",
       "        vertical-align: top;\n",
       "    }\n",
       "\n",
       "    .dataframe thead th {\n",
       "        text-align: right;\n",
       "    }\n",
       "</style>\n",
       "<table border=\"1\" class=\"dataframe\">\n",
       "  <thead>\n",
       "    <tr style=\"text-align: right;\">\n",
       "      <th></th>\n",
       "      <th>EMBI + Risco-Brasil</th>\n",
       "    </tr>\n",
       "  </thead>\n",
       "  <tbody>\n",
       "    <tr>\n",
       "      <th>Name</th>\n",
       "      <td>EMBI + Risco-Brasil</td>\n",
       "    </tr>\n",
       "    <tr>\n",
       "      <th>Code</th>\n",
       "      <td>JPM366_EMBI366</td>\n",
       "    </tr>\n",
       "    <tr>\n",
       "      <th>Big Theme</th>\n",
       "      <td>Macroeconômico</td>\n",
       "    </tr>\n",
       "    <tr>\n",
       "      <th>Theme</th>\n",
       "      <td>Financeiras</td>\n",
       "    </tr>\n",
       "    <tr>\n",
       "      <th>Source</th>\n",
       "      <td>JP Morgan</td>\n",
       "    </tr>\n",
       "    <tr>\n",
       "      <th>Source acronym</th>\n",
       "      <td>JP Morgan</td>\n",
       "    </tr>\n",
       "    <tr>\n",
       "      <th>Comment</th>\n",
       "      <td>O EMBI+ (Emerging Markets Bond Index Plus) est...</td>\n",
       "    </tr>\n",
       "    <tr>\n",
       "      <th>Last update</th>\n",
       "      <td>2021-07-09T16:16:00.45-03:00</td>\n",
       "    </tr>\n",
       "    <tr>\n",
       "      <th>Frequency</th>\n",
       "      <td>Diária</td>\n",
       "    </tr>\n",
       "    <tr>\n",
       "      <th>Measure</th>\n",
       "      <td>-</td>\n",
       "    </tr>\n",
       "    <tr>\n",
       "      <th>Unit</th>\n",
       "      <td>.</td>\n",
       "    </tr>\n",
       "    <tr>\n",
       "      <th>Status</th>\n",
       "      <td>A</td>\n",
       "    </tr>\n",
       "  </tbody>\n",
       "</table>\n",
       "</div>"
      ],
      "text/plain": [
       "                                              EMBI + Risco-Brasil\n",
       "Name                                          EMBI + Risco-Brasil\n",
       "Code                                               JPM366_EMBI366\n",
       "Big Theme                                          Macroeconômico\n",
       "Theme                                                 Financeiras\n",
       "Source                                                  JP Morgan\n",
       "Source acronym                                          JP Morgan\n",
       "Comment         O EMBI+ (Emerging Markets Bond Index Plus) est...\n",
       "Last update                          2021-07-09T16:16:00.45-03:00\n",
       "Frequency                                                  Diária\n",
       "Measure                                                         -\n",
       "Unit                                                            .\n",
       "Status                                                          A"
      ]
     },
     "execution_count": 7,
     "metadata": {},
     "output_type": "execute_result"
    }
   ],
   "source": [
    "idpy.describe(\"JPM366_EMBI366\")"
   ]
  },
  {
   "cell_type": "markdown",
   "id": "c1b33fa8",
   "metadata": {},
   "source": [
    "Extrai a série:"
   ]
  },
  {
   "cell_type": "code",
   "execution_count": 8,
   "id": "e93cf914",
   "metadata": {},
   "outputs": [
    {
     "data": {
      "text/html": [
       "<div>\n",
       "<style scoped>\n",
       "    .dataframe tbody tr th:only-of-type {\n",
       "        vertical-align: middle;\n",
       "    }\n",
       "\n",
       "    .dataframe tbody tr th {\n",
       "        vertical-align: top;\n",
       "    }\n",
       "\n",
       "    .dataframe thead th {\n",
       "        text-align: right;\n",
       "    }\n",
       "</style>\n",
       "<table border=\"1\" class=\"dataframe\">\n",
       "  <thead>\n",
       "    <tr style=\"text-align: right;\">\n",
       "      <th></th>\n",
       "      <th>YEAR</th>\n",
       "      <th>DAY</th>\n",
       "      <th>MONTH</th>\n",
       "      <th>CODE</th>\n",
       "      <th>RAW DATE</th>\n",
       "      <th>VALUE (-)</th>\n",
       "    </tr>\n",
       "    <tr>\n",
       "      <th>DATE</th>\n",
       "      <th></th>\n",
       "      <th></th>\n",
       "      <th></th>\n",
       "      <th></th>\n",
       "      <th></th>\n",
       "      <th></th>\n",
       "    </tr>\n",
       "  </thead>\n",
       "  <tbody>\n",
       "    <tr>\n",
       "      <th>1994-04-29</th>\n",
       "      <td>1994</td>\n",
       "      <td>29</td>\n",
       "      <td>4</td>\n",
       "      <td>JPM366_EMBI366</td>\n",
       "      <td>1994-04-29T00:00:00-03:00</td>\n",
       "      <td>1120.0</td>\n",
       "    </tr>\n",
       "    <tr>\n",
       "      <th>1994-04-30</th>\n",
       "      <td>1994</td>\n",
       "      <td>30</td>\n",
       "      <td>4</td>\n",
       "      <td>JPM366_EMBI366</td>\n",
       "      <td>1994-04-30T00:00:00-03:00</td>\n",
       "      <td>NaN</td>\n",
       "    </tr>\n",
       "    <tr>\n",
       "      <th>1994-05-01</th>\n",
       "      <td>1994</td>\n",
       "      <td>1</td>\n",
       "      <td>5</td>\n",
       "      <td>JPM366_EMBI366</td>\n",
       "      <td>1994-05-01T00:00:00-03:00</td>\n",
       "      <td>NaN</td>\n",
       "    </tr>\n",
       "    <tr>\n",
       "      <th>1994-05-02</th>\n",
       "      <td>1994</td>\n",
       "      <td>2</td>\n",
       "      <td>5</td>\n",
       "      <td>JPM366_EMBI366</td>\n",
       "      <td>1994-05-02T00:00:00-03:00</td>\n",
       "      <td>1131.0</td>\n",
       "    </tr>\n",
       "    <tr>\n",
       "      <th>1994-05-03</th>\n",
       "      <td>1994</td>\n",
       "      <td>3</td>\n",
       "      <td>5</td>\n",
       "      <td>JPM366_EMBI366</td>\n",
       "      <td>1994-05-03T00:00:00-03:00</td>\n",
       "      <td>1081.0</td>\n",
       "    </tr>\n",
       "  </tbody>\n",
       "</table>\n",
       "</div>"
      ],
      "text/plain": [
       "            YEAR  DAY  MONTH            CODE                   RAW DATE  \\\n",
       "DATE                                                                      \n",
       "1994-04-29  1994   29      4  JPM366_EMBI366  1994-04-29T00:00:00-03:00   \n",
       "1994-04-30  1994   30      4  JPM366_EMBI366  1994-04-30T00:00:00-03:00   \n",
       "1994-05-01  1994    1      5  JPM366_EMBI366  1994-05-01T00:00:00-03:00   \n",
       "1994-05-02  1994    2      5  JPM366_EMBI366  1994-05-02T00:00:00-03:00   \n",
       "1994-05-03  1994    3      5  JPM366_EMBI366  1994-05-03T00:00:00-03:00   \n",
       "\n",
       "            VALUE (-)  \n",
       "DATE                   \n",
       "1994-04-29     1120.0  \n",
       "1994-04-30        NaN  \n",
       "1994-05-01        NaN  \n",
       "1994-05-02     1131.0  \n",
       "1994-05-03     1081.0  "
      ]
     },
     "execution_count": 8,
     "metadata": {},
     "output_type": "execute_result"
    }
   ],
   "source": [
    "embi_mais_ts = idpy.timeseries(\"JPM366_EMBI366\")\n",
    "embi_mais_ts.head(5)"
   ]
  }
 ],
 "metadata": {
  "kernelspec": {
   "display_name": "Python 3",
   "language": "python",
   "name": "python3"
  },
  "language_info": {
   "codemirror_mode": {
    "name": "ipython",
    "version": 3
   },
   "file_extension": ".py",
   "mimetype": "text/x-python",
   "name": "python",
   "nbconvert_exporter": "python",
   "pygments_lexer": "ipython3",
   "version": "3.8.8"
  }
 },
 "nbformat": 4,
 "nbformat_minor": 5
}
