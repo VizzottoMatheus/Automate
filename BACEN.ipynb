{
 "cells": [
  {
   "cell_type": "markdown",
   "id": "8ade91ee",
   "metadata": {},
   "source": [
    "# DADOS DO BANCO CENTRAL"
   ]
  },
  {
   "cell_type": "markdown",
   "id": "06ad06a7",
   "metadata": {},
   "source": [
    "O Banco Central possui uma API versátil que permite o download automático das séries temporais disponibilizadas em https://www3.bcb.gov.br/sgspub/localizarseries/localizarSeries.do?method=prepararTelaLocalizarSeries .\n",
    "\n",
    "Para montar a url de download, basta inserir o número da série entre as chaves deste link: http://api.bcb.gov.br/dados/serie/bcdata.sgs.{}/dados?formato=csv .\n",
    "\n",
    "Por exemplo, a série temporal da taxa de câmbio em relação ao dólar tem código \"1\":"
   ]
  },
  {
   "cell_type": "code",
   "execution_count": null,
   "id": "f5bf1356",
   "metadata": {},
   "outputs": [],
   "source": [
    "import pandas as pd\n",
    "\n",
    "dolar_ts = pd.read_csv(\"http://api.bcb.gov.br/dados/serie/bcdata.sgs.1/dados?formato=csv\", sep = \";\", decimal = \",\")"
   ]
  },
  {
   "cell_type": "markdown",
   "id": "0310667a",
   "metadata": {},
   "source": [
    "# Função que faz o download de diversos dados macroeconômicos por meio da API do Banco Central:"
   ]
  },
  {
   "cell_type": "markdown",
   "id": "16d1d21e",
   "metadata": {},
   "source": [
    "- Dólar\n",
    "- Euro\n",
    "- Libra\n",
    "- Índice nacional de preços ao consumidor-amplo (IPCA)\n",
    "- Índice geral de preços do mercado (IGP-M)\n",
    "- Índice de Preços por Atacado-Mercado (IPA-M)\n",
    "- Índice nacional de custo da construção (INCC)\n",
    "- SELIC\n",
    "- Índice de Atividade Econômica do Banco Central com ajuste sazonal (IBC-BR)\n",
    "- Índice de Atividade Econômica Regional - Região Sul - com ajuste sazonal (IBC-SUL)\n",
    "- Saldo da carteira de crédito em relação ao PIB\n",
    "- Saldo da carteira de crédito com recursos livres a pessoas jurídicas em relação ao PIB  \n",
    "- Saldo da carteira de crédito com recursos livres a pessoas físicas em relação ao PIB\n",
    "- Saldo da carteira de crédito com recursos direcionados a pessoas jurídicas em relação ao PIB \n",
    "- Saldo da carteira de crédito com recursos direcionados a pessoas físicas em relação ao PIB \n",
    "- Saldo da carteira de crédito a pessoas jurídicas em relação ao PIB\n",
    "- Saldo da carteira de crédito a pessoas físicas em relação ao PIB"
   ]
  },
  {
   "cell_type": "code",
   "execution_count": null,
   "id": "b0d3b8c6",
   "metadata": {},
   "outputs": [],
   "source": [
    "import pandas as pd\n",
    "\n",
    "def bacen_downloader():\n",
    "    api_sgs = \"http://api.bcb.gov.br/dados/serie/bcdata.sgs.{}/dados?formato=csv\"\n",
    "    \n",
    "    menu = \"a. Dólar\\nb. Euro\\nc. Libra\\nd. Índice nacional de preços ao consumidor-amplo (IPCA)\\ne. Índice geral de preços do mercado (IGP-M)\\nf. Índice de Preços por Atacado-Mercado (IPA-M)\\ng. Índice nacional de custo da construção (INCC)\\nh. SELIC\\ni. Índice de Atividade Econômica do Banco Central com ajuste sazonal (IBC-BR)\\nj. Índice de Atividade Econômica Regional - Região Sul - com ajuste sazonal (IBC-SUL)\\nk. Saldo da carteira de crédito em relação ao PIB\\nl. Saldo da carteira de crédito com recursos livres a pessoas jurídicas em relação ao PIB \\nm. Saldo da carteira de crédito com recursos livres a pessoas físicas em relação ao PIB \\nn. Saldo da carteira de crédito com recursos direcionados a pessoas jurídicas em relação ao PIB \\no. Saldo da carteira de crédito com recursos direcionados a pessoas físicas em relação ao PIB\\np. Saldo da carteira de crédito a pessoas jurídicas em relação ao PIB\\nq. Saldo da carteira de crédito a pessoas físicas em relação ao PIB\\nTODOS (cria um dicionário com todos os dados listados)\"\n",
    "    \n",
    "    inputs = {\n",
    "    'a': 1,\n",
    "    'b': 21619,\n",
    "    'c': 21623,\n",
    "    'd': 433,\n",
    "    'e': 189,\n",
    "    'f': 7450,\n",
    "    'g': 192,\n",
    "    'h': 432,\n",
    "    'i': 24364,\n",
    "    'j': 25403,\n",
    "    'k': 20622,\n",
    "    'l': 20626,\n",
    "    'm': 20627,\n",
    "    'n': 20629,\n",
    "    'o': 20630,\n",
    "    'p': 20623,\n",
    "    'q': 20624\n",
    "    }\n",
    "\n",
    "    print(\"Selecione uma opção para iniciar o download:\\n\")\n",
    "    print(menu)\n",
    "    \n",
    "    while True:\n",
    "        conta = input(\"\\nSELEÇÃO: \")\n",
    "        if conta in inputs or conta == \"TODOS\":\n",
    "            break\n",
    "        print(\"Opção não está no índice. Tente de novo.\")\n",
    "    \n",
    "    if conta == \"TODOS\":\n",
    "        print(\"Baixando dados...\")\n",
    "        d = {}\n",
    "        for var, cod in inputs.items():\n",
    "            link = api_sgs.format(cod)\n",
    "            d[\"{}\".format(var)] = pd.read_csv(link, sep = \";\", decimal= \",\", dtype = {\"valor\": \"float\"}, parse_dates = [\"data\"])\n",
    "        print(\"Dados baixados.\")\n",
    "        return d\n",
    "    else:\n",
    "        print(\"Baixando dados...\")\n",
    "        corresp = inputs[conta]\n",
    "        dataframe = pd.read_csv(api_sgs.format(corresp), sep = \";\", decimal= \",\", dtype = {\"valor\": \"float\"}, parse_dates = [\"data\"])\n",
    "        print(\"Dados baixados.\")\n",
    "        return dataframe\n",
    "    \n",
    "    "
   ]
  },
  {
   "cell_type": "code",
   "execution_count": null,
   "id": "f0e19fb9",
   "metadata": {},
   "outputs": [],
   "source": [
    "df = bacen_downloader()"
   ]
  }
 ],
 "metadata": {
  "kernelspec": {
   "display_name": "Python 3",
   "language": "python",
   "name": "python3"
  },
  "language_info": {
   "codemirror_mode": {
    "name": "ipython",
    "version": 3
   },
   "file_extension": ".py",
   "mimetype": "text/x-python",
   "name": "python",
   "nbconvert_exporter": "python",
   "pygments_lexer": "ipython3",
   "version": "3.8.8"
  }
 },
 "nbformat": 4,
 "nbformat_minor": 5
}
