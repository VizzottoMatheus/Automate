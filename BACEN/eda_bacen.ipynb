{
 "cells": [
  {
   "cell_type": "code",
   "execution_count": 1,
   "metadata": {},
   "outputs": [],
   "source": [
    "import pandas as pd\n",
    "import matplotlib.pyplot as plt\n",
    "import seaborn\n",
    "from scraper_bacen import bacen_downloader"
   ]
  },
  {
   "cell_type": "code",
   "execution_count": 2,
   "metadata": {},
   "outputs": [
    {
     "name": "stdout",
     "output_type": "stream",
     "text": [
      "Baixando dados:\n",
      " -Dólar\n",
      " -Euro\n",
      " -Libra\n",
      " -Índice nacional de preços ao consumidor-amplo (IPCA)\n",
      " -Índice geral de preços do mercado (IGP-M)\n",
      " -Índice de Preços por Atacado-Mercado (IPA-M)\n",
      " -Índice nacional de custo da construção (INCC)\n",
      " -SELIC\n",
      " -Índice de Atividade Econômica do Banco Central com ajuste sazonal (IBC-BR)\n",
      " -Índice de Atividade Econômica Regional - Região Sul - com ajuste sazonal (IBC-SUL)\n",
      " -Saldo da carteira de crédito em relação ao PIB\n",
      " -Saldo da carteira de crédito com recursos livres a pessoas jurídicas em relação ao PIB\n",
      " -Saldo da carteira de crédito com recursos livres a pessoas físicas em relação ao PIB\n",
      " -Saldo da carteira de crédito com recursos direcionados a pessoas jurídicas em relação ao PIB\n",
      " -Saldo da carteira de crédito com recursos direcionados a pessoas físicas em relação ao PIB\n",
      " -Saldo da carteira de crédito a pessoas jurídicas em relação ao PIB\n",
      " -Saldo da carteira de crédito a pessoas físicas em relação ao PIB\n",
      "Dados baixados e salvos em formato de dicionário.\n"
     ]
    }
   ],
   "source": [
    "bacen_dict = bacen_downloader(date_as_index = True)"
   ]
  },
  {
   "cell_type": "code",
   "execution_count": 3,
   "metadata": {},
   "outputs": [
    {
     "name": "stdout",
     "output_type": "stream",
     "text": [
      "Dólar\n",
      "Euro\n",
      "Libra\n",
      "Índice nacional de preços ao consumidor-amplo (IPCA)\n",
      "Índice geral de preços do mercado (IGP-M)\n",
      "Índice de Preços por Atacado-Mercado (IPA-M)\n",
      "Índice nacional de custo da construção (INCC)\n",
      "SELIC\n",
      "Índice de Atividade Econômica do Banco Central com ajuste sazonal (IBC-BR)\n",
      "Índice de Atividade Econômica Regional - Região Sul - com ajuste sazonal (IBC-SUL)\n",
      "Saldo da carteira de crédito em relação ao PIB\n",
      "Saldo da carteira de crédito com recursos livres a pessoas jurídicas em relação ao PIB\n",
      "Saldo da carteira de crédito com recursos livres a pessoas físicas em relação ao PIB\n",
      "Saldo da carteira de crédito com recursos direcionados a pessoas jurídicas em relação ao PIB\n",
      "Saldo da carteira de crédito com recursos direcionados a pessoas físicas em relação ao PIB\n",
      "Saldo da carteira de crédito a pessoas jurídicas em relação ao PIB\n",
      "Saldo da carteira de crédito a pessoas físicas em relação ao PIB\n"
     ]
    }
   ],
   "source": [
    "for key in bacen_dict.keys():\n",
    "    print(key)"
   ]
  },
  {
   "cell_type": "code",
   "execution_count": 4,
   "metadata": {},
   "outputs": [
    {
     "data": {
      "text/plain": [
       "<AxesSubplot:xlabel='data'>"
      ]
     },
     "execution_count": 4,
     "metadata": {},
     "output_type": "execute_result"
    },
    {
     "data": {
      "image/png": "[encoded data removed]",
      "text/plain": [
       "<Figure size 432x288 with 1 Axes>"
      ]
     },
     "metadata": {
      "needs_background": "light"
     },
     "output_type": "display_data"
    }
   ],
   "source": [
    "bacen_dict[\"Dólar\"][\"2000-01-01\":].plot()"
   ]
  },
  {
   "cell_type": "code",
   "execution_count": null,
   "metadata": {},
   "outputs": [],
   "source": []
  }
 ],
 "metadata": {
  "interpreter": {
   "hash": "6d46af94c2bbce495f1e668725902fa517c90b1782bcfe2fce0dd9868df553d3"
  },
  "kernelspec": {
   "display_name": "Python 3.8.8 ('base')",
   "language": "python",
   "name": "python3"
  },
  "language_info": {
   "codemirror_mode": {
    "name": "ipython",
    "version": 3
   },
   "file_extension": ".py",
   "mimetype": "text/x-python",
   "name": "python",
   "nbconvert_exporter": "python",
   "pygments_lexer": "ipython3",
   "version": "3.8.8"
  },
  "orig_nbformat": 4
 },
 "nbformat": 4,
 "nbformat_minor": 2
}
