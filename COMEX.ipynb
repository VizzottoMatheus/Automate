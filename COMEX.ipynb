{
 "cells": [
  {
   "cell_type": "markdown",
   "metadata": {},
   "source": [
    "This script gets exports and imports data from Siscomex (http://siscomex.gov.br/)"
   ]
  },
  {
   "cell_type": "code",
   "execution_count": 7,
   "metadata": {},
   "outputs": [],
   "source": [
    "import requests\n",
    "from io import BytesIO\n",
    "import pandas as pd\n",
    "from zipfile import ZipFile\n",
    "import re\n",
    "\n",
    "import ssl\n",
    "ssl._create_default_https_context = ssl._create_unverified_context # certificado para download"
   ]
  },
  {
   "cell_type": "markdown",
   "metadata": {},
   "source": [
    "EXPORTAÇÕES"
   ]
  },
  {
   "cell_type": "code",
   "execution_count": 2,
   "metadata": {},
   "outputs": [
    {
     "name": "stderr",
     "output_type": "stream",
     "text": [
      "C:\\Users\\user\\anaconda3\\lib\\site-packages\\urllib3\\connectionpool.py:1013: InsecureRequestWarning: Unverified HTTPS request is being made to host 'balanca.economia.gov.br'. Adding certificate verification is strongly advised. See: https://urllib3.readthedocs.io/en/latest/advanced-usage.html#ssl-warnings\n",
      "  warnings.warn(\n"
     ]
    }
   ],
   "source": [
    "X = \"https://balanca.economia.gov.br/balanca/bd/comexstat-bd/ncm/EXP_COMPLETA.zip\"\n",
    "\n",
    "r = requests.get(X, verify = False)\n",
    "files = ZipFile(BytesIO(r.content))\n",
    "arquivo_x = files.namelist()[0]\n",
    "exportacoes = pd.read_csv(files.open(arquivo_x), encoding=\"latin1\", sep = \";\")"
   ]
  },
  {
   "cell_type": "markdown",
   "metadata": {},
   "source": [
    "IMPORTAÇÕES "
   ]
  },
  {
   "cell_type": "code",
   "execution_count": null,
   "metadata": {},
   "outputs": [],
   "source": [
    "M = \"https://balanca.economia.gov.br/balanca/bd/comexstat-bd/ncm/IMP_COMPLETA.zip\"\n",
    "r = requests.get(M, verify = False)\n",
    "files = ZipFile(BytesIO(r.content))\n",
    "arquivo_m = files.namelist()[0]\n",
    "importacoes = pd.read_csv(files.open(arquivo_m), encoding=\"latin1\", sep = \";\")"
   ]
  },
  {
   "cell_type": "markdown",
   "metadata": {},
   "source": [
    "CÓDIGOS"
   ]
  },
  {
   "cell_type": "code",
   "execution_count": 8,
   "metadata": {},
   "outputs": [],
   "source": [
    "path = \"https://balanca.economia.gov.br/balanca/bd/tabelas/NCM.csv\"\n",
    "ncm = pd.read_csv(path, sep = \";\", encoding = \"latin-1\")\n",
    "ncm_desc = ncm[[\"CO_NCM\", \"NO_NCM_POR\"]]"
   ]
  },
  {
   "cell_type": "code",
   "execution_count": 19,
   "metadata": {},
   "outputs": [],
   "source": [
    "path = \"https://balanca.economia.gov.br/balanca/bd/tabelas/PAIS.csv\"\n",
    "paises = pd.read_csv(path, sep = \";\", encoding = \"latin-1\")\n",
    "paises_desc = paises[[\"CO_PAIS\", \"NO_PAIS\"]]"
   ]
  },
  {
   "cell_type": "markdown",
   "metadata": {},
   "source": [
    "AGREGANDO BASES"
   ]
  },
  {
   "cell_type": "code",
   "execution_count": 20,
   "metadata": {},
   "outputs": [],
   "source": [
    "exportacoes2 = pd.merge(exportacoes, ncm_desc, on = \"CO_NCM\", how = \"left\")\n",
    "exportacoes3 = pd.merge(exportacoes2, paises_desc, on = \"CO_PAIS\", how = \"left\")"
   ]
  },
  {
   "cell_type": "markdown",
   "metadata": {},
   "source": [
    "ENCONTRAR ITENS DE GASOLINA"
   ]
  },
  {
   "cell_type": "code",
   "execution_count": 26,
   "metadata": {},
   "outputs": [
    {
     "name": "stdout",
     "output_type": "stream",
     "text": [
      "Aparelhos para cozinhar e aquecedores de pratos, de ferro fundido, ferro ou aço, a combustíveis gasosos, ou a gás e outros combustíveis\n",
      "Bombas para gasolina ou álcool, próprias para motores de ignição por centelha ou por compressão\n",
      "Outros tubos de ferro/aço, sem costura, para oleodutos/gasodutos\n",
      "Outras gasolinas\n",
      "Tubos dos tipos utilizados em oleodutos ou gasodutos, soldados longitudinalmente por arco imerso, de seção circular, de diâmetro exterior superior a 406,4 mm, de ferro ou aço\n",
      "Tubos de ferro/aço, soldado/rebitado/agrafado, para oleoduto/gasoduto\n",
      "Gás de hulha, gás de água, gás pobre (gás de ar) e gases semelhantes, exceto gases de petróleo e outros hidrocarbonetos gasosos\n",
      "Tubos de aços inoxidáveis sem costura, para oleodutos/gasodutos\n",
      "Outros tubos dos tipos utilizados em oleodutos ou gasodutos, de seção circular, de diâmetro exterior superior a 406,4 mm, de ferro ou aço\n",
      "Gasolinas de aviação\n",
      "Outros tubos dos tipos utilizados em oleodutos ou gasodutos, soldados longitudinalmente, de seção circular, de diâmetro exterior superior a 406,4 mm, de ferro ou aço\n",
      "Outros aquecedores, etc, de ferro/aço, a combustíveis gasosos, ou a gás e outros combustíveis\n",
      "Cloreto de hidrogênio (ácido clorídrico), em estado gasoso ou liquefeito\n",
      "Combustíveis líquidos e combustíveis gasosos liquefeitos, em recipientes dos tipos utilizados para carregar ou recarregar isqueiros ou acendedores, com capacidade não superior a 300 cm3\n",
      "Cromatógrafos de fase gasosa\n",
      "Gás natural no estado gasoso\n",
      "Outros hidrocarbonetos gasosos e gás petróleo, no estado gasoso\n",
      "Outros gases liquefeitos de hidrocarbonetos gasosos\n",
      "Outros tubos e perfis ocos, sem costura, de ferro ou aço, dos tipos utilizados em oleodutos ou gasodutos\n",
      "Tubos dos tipos utilizados em oleodutos ou gasodutos, de aço inoxidável\n",
      "Tubos dos tipos utilizados em oleodutos ou gasodutos, soldados, de aço inoxidável\n",
      "Outros tubos dos tipos utilizados em oleodutos ou gasodutos\n",
      "Outras gasolinas, exceto para aviação\n",
      "Gasolinas para aviação\n"
     ]
    }
   ],
   "source": [
    "padrao_combustivel = re.compile(\"gaso\", flags=re.IGNORECASE)\n",
    "for item in exportacoes3.NO_NCM_POR.unique():\n",
    "    if re.search(padrao_combustivel, str(item)):\n",
    "        print(item)"
   ]
  },
  {
   "cell_type": "code",
   "execution_count": null,
   "metadata": {},
   "outputs": [],
   "source": []
  }
 ],
 "metadata": {
  "interpreter": {
   "hash": "6d46af94c2bbce495f1e668725902fa517c90b1782bcfe2fce0dd9868df553d3"
  },
  "kernelspec": {
   "display_name": "Python 3.8.8 64-bit ('base': conda)",
   "name": "python3"
  },
  "language_info": {
   "codemirror_mode": {
    "name": "ipython",
    "version": 3
   },
   "file_extension": ".py",
   "mimetype": "text/x-python",
   "name": "python",
   "nbconvert_exporter": "python",
   "pygments_lexer": "ipython3",
   "version": "3.8.8"
  },
  "orig_nbformat": 4
 },
 "nbformat": 4,
 "nbformat_minor": 2
}
