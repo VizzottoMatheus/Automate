{
 "cells": [
  {
   "cell_type": "code",
   "execution_count": 1,
   "id": "63f0aa19",
   "metadata": {},
   "outputs": [],
   "source": [
    "import dicionario_api as da"
   ]
  },
  {
   "cell_type": "code",
   "execution_count": 2,
   "id": "4a14d95a",
   "metadata": {},
   "outputs": [],
   "source": [
    "d = da.culturas()"
   ]
  },
  {
   "cell_type": "code",
   "execution_count": 3,
   "id": "219b88f9",
   "metadata": {},
   "outputs": [
    {
     "name": "stdout",
     "output_type": "stream",
     "text": [
      "(0, 'Total')\n",
      "(40129, 'Abacate')\n",
      "(40092, 'Abacaxi*')\n",
      "(45982, 'Açaí')\n",
      "(40329, 'Alfafa fenada')\n",
      "(40130, 'Algodão arbóreo (em caroço)')\n",
      "(40099, 'Algodão herbáceo (em caroço)')\n",
      "(40100, 'Alho')\n",
      "(40101, 'Amendoim (em casca)')\n",
      "(40102, 'Arroz (em casca)')\n",
      "(40103, 'Aveia (em grão)')\n",
      "(40131, 'Azeitona')\n",
      "(40136, 'Banana (cacho)')\n",
      "(40104, 'Batata-doce')\n",
      "(40105, 'Batata-inglesa')\n",
      "(40137, 'Borracha (látex coagulado)')\n",
      "(40468, 'Borracha (látex líquido)')\n",
      "(40138, 'Cacau (em amêndoa)')\n",
      "(40139, 'Café (em grão) Total')\n",
      "(40140, 'Café (em grão) Arábica')\n",
      "(40141, 'Café (em grão) Canephora')\n",
      "(40330, 'Caju')\n",
      "(40106, 'Cana-de-açúcar')\n",
      "(40331, 'Cana para forragem')\n",
      "(40142, 'Caqui')\n",
      "(40143, 'Castanha de caju')\n",
      "(40107, 'Cebola')\n",
      "(40108, 'Centeio (em grão)')\n",
      "(40109, 'Cevada (em grão)')\n",
      "(40144, 'Chá-da-índia (folha verde)')\n",
      "(40145, 'Coco-da-baía*')\n",
      "(40146, 'Dendê (cacho de coco)')\n",
      "(40147, 'Erva-mate (folha verde)')\n",
      "(40110, 'Ervilha (em grão)')\n",
      "(40111, 'Fava (em grão)')\n",
      "(40112, 'Feijão (em grão)')\n",
      "(40148, 'Figo')\n",
      "(40113, 'Fumo (em folha)')\n",
      "(40114, 'Girassol (em grão)')\n",
      "(40149, 'Goiaba')\n",
      "(40150, 'Guaraná (semente)')\n",
      "(40115, 'Juta (fibra)')\n",
      "(40151, 'Laranja')\n",
      "(40152, 'Limão')\n",
      "(40116, 'Linho (semente)')\n",
      "(40260, 'Maçã')\n",
      "(40117, 'Malva (fibra)')\n",
      "(40261, 'Mamão')\n",
      "(40118, 'Mamona (baga)')\n",
      "(40119, 'Mandioca')\n",
      "(40262, 'Manga')\n",
      "(40263, 'Maracujá')\n",
      "(40264, 'Marmelo')\n",
      "(40120, 'Melancia')\n",
      "(40121, 'Melão')\n",
      "(40122, 'Milho (em grão)')\n",
      "(40265, 'Noz (fruto seco)')\n",
      "(40266, 'Palmito')\n",
      "(40267, 'Pera')\n",
      "(40268, 'Pêssego')\n",
      "(40269, 'Pimenta-do-reino')\n",
      "(40123, 'Rami (fibra)')\n",
      "(40270, 'Sisal ou agave (fibra)')\n",
      "(40124, 'Soja (em grão)')\n",
      "(40125, 'Sorgo (em grão)')\n",
      "(40271, 'Tangerina')\n",
      "(40126, 'Tomate')\n",
      "(40127, 'Trigo (em grão)')\n",
      "(40128, 'Triticale (em grão)')\n",
      "(40272, 'Tungue (fruto seco)')\n",
      "(40273, 'Urucum (semente)')\n",
      "(40274, 'Uva')\n"
     ]
    }
   ],
   "source": [
    "for c in d.items():\n",
    "    print(c)"
   ]
  }
 ],
 "metadata": {
  "interpreter": {
   "hash": "a077222d77dfe082b8f1dd562ad70e458ac2ab76993a0b248ab0476e32e9e8dd"
  },
  "kernelspec": {
   "display_name": "Python 3.8.8 ('base')",
   "language": "python",
   "name": "python3"
  },
  "language_info": {
   "codemirror_mode": {
    "name": "ipython",
    "version": 3
   },
   "file_extension": ".py",
   "mimetype": "text/x-python",
   "name": "python",
   "nbconvert_exporter": "python",
   "pygments_lexer": "ipython3",
   "version": "3.8.8"
  }
 },
 "nbformat": 4,
 "nbformat_minor": 5
}
